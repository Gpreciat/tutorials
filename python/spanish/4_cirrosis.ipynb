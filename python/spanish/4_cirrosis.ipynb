{
  "nbformat": 4,
  "nbformat_minor": 0,
  "metadata": {
    "colab": {
      "provenance": []
    },
    "kernelspec": {
      "name": "python3",
      "display_name": "Python 3"
    },
    "language_info": {
      "name": "python"
    }
  },
  "cells": [
    {
      "cell_type": "markdown",
      "source": [
        "# Análisis de supervivencia en pacientes con cirrosis hepática\n",
        "\n",
        "**Autor: German Preciat**; Universidad de Guadalajara\n",
        "\n",
        "**Carrera: Ing. Biomédica**\n",
        "\n",
        "**Materia: Analisis de datos clínicos**\n",
        "\n",
        "**Contacto: german.preciat@academicos.udg.mx**\n",
        "\n",
        "Este conjunto de datos se centra en predecir el estado de supervivencia de pacientes con cirrosis hepática, utilizando 17 características clínicas. La cirrosis hepática es el resultado de un daño prolongado en el hígado, que conduce a una cicatrización extensa, a menudo debido a condiciones como la hepatitis o el consumo crónico de alcohol. Los datos provienen de un estudio realizado por la Clínica Mayo sobre la cirrosis biliar primaria (PBC) del hígado, llevado a cabo entre 1974 y 1984.\n",
        "\n",
        "Los datos se obtuvieron en [kaggle](https://www.kaggle.com/datasets/joebeachcapital/cirrhosis-patient-survival-prediction)."
      ],
      "metadata": {
        "id": "kHOMFA8pSyxF"
      }
    },
    {
      "cell_type": "markdown",
      "source": [
        "## Introducción\n",
        "\n",
        "El propósito de este conjunto de datos es analizar y predecir el estado de supervivencia de los pacientes con cirrosis hepática, lo que podría ayudar en la comprensión y el tratamiento de esta enfermedad.\n",
        "\n",
        "Este trabajo se centrará en analizar los datos utilizando el marco de análisis de datos de Google, que comprende las siguientes fases:\n",
        ", Preparar, Procesar, Analizar,\n",
        "\n",
        "*   Preguntar\n",
        "*   Preparar\n",
        "*   Procesar\n",
        "*   Analizar\n",
        "*   Compartir\n",
        "*   Actuar\n",
        "\n",
        "El objetivo es utilizar este conjunto de datos como práctica para la clase de análisis de datos con Python."
      ],
      "metadata": {
        "id": "HObsUzaLTkEZ"
      }
    },
    {
      "cell_type": "markdown",
      "source": [
        "## Analisis de datos\n",
        "\n",
        "Para procesar los datos en este proyecto en Google Colab, utilizaremos las siguientes bibliotecas de Python:\n",
        "\n",
        "1. **Pandas**: Se utilizará para leer y manipular el conjunto de datos en formato de tabla.\n",
        "```python\n",
        "import pandas as pd\n",
        "```\n",
        "\n",
        "2. **NumPy**: Proporciona estructuras de datos y funciones para trabajar de manera eficiente con matrices numéricas.\n",
        "```python\n",
        "import numpy as np\n",
        "```\n",
        "\n",
        "3. **Matplotlib**: Se utilizará para visualizar los datos y crear gráficos.\n",
        "```python\n",
        "import matplotlib.pyplot as plt\n",
        "```\n",
        "\n",
        "4. **Seaborn**: Proporciona una interfaz de alto nivel para la creación de gráficos estadísticos atractivos y informativos.\n",
        "```python\n",
        "import seaborn as sns\n",
        "```\n",
        "\n",
        "5. **Scikit-learn**: Esta biblioteca se utilizará para realizar análisis de datos, como dividir los datos en conjuntos de entrenamiento y prueba, y entrenar modelos de predicción.\n",
        "```python\n",
        "from sklearn.model_selection import train_test_split\n",
        "from sklearn.preprocessing import StandardScaler\n",
        "from sklearn.metrics import accuracy_score, classification_report, confusion_matrix\n",
        "```\n",
        "\n",
        "Además, utilizaremos las funciones de Google Colab para cargar archivos desde la computadora local al entorno de Colab. Esto se puede hacer con el siguiente código:\n",
        "\n",
        "```python\n",
        "from google.colab import files\n",
        "uploaded = files.upload()\n",
        "```\n",
        "\n",
        "Este código permitirá al usuario seleccionar un archivo CSV desde su computadora y cargarlo en el entorno de Colab para su posterior procesamiento."
      ],
      "metadata": {
        "id": "Rbn23taTUjI_"
      }
    },
    {
      "cell_type": "markdown",
      "source": [
        "### Preguntar\n",
        "\n",
        "La generación de preguntas bien formuladas es fundamental para recopilar datos relevantes y significativos que nos ayuden a comprender mejor un problema o fenómeno. Al formular preguntas específicas y claras, podemos identificar las variables clave que influyen en el problema que estamos investigando.\n",
        "\n",
        "Preguntas para la generación del conjunto de datos sobre la cirrosis hepática:\n",
        "\n",
        "1. ¿Cuál es la relación entre el tiempo transcurrido desde el registro y el estado del paciente (muerte, trasplante o análisis)?\n",
        "2. ¿Cómo afecta el tipo de medicamento administrado al estado del paciente?\n",
        "3. ¿Existe una correlación entre la edad del paciente y su estado de salud?\n",
        "4. ¿Hay diferencias en el estado de los pacientes en función de su género?\n",
        "5. ¿La presencia de ciertas condiciones médicas como ascitis, hepatomegalia, arañas vasculares o edema afecta la supervivencia de los pacientes?\n",
        "6. ¿Qué relación existe entre los niveles de diferentes biomarcadores como bilirrubina, colesterol, albúmina, cobre, fosfatasa alcalina, SGOT, triglicéridos, plaquetas y tiempo de protrombina con el estado de los pacientes?\n",
        "7. ¿El estadio histológico de la enfermedad tiene algún impacto en la supervivencia de los pacientes?\n",
        "\n",
        "En el caso del estudio de la cirrosis hepática, las preguntas planteadas nos permiten recopilar información sobre diversos aspectos de la enfermedad, como la relación entre los síntomas clínicos y el estado de los pacientes, el efecto de los tratamientos médicos, y la influencia de los biomarcadores en la progresión de la enfermedad.\n",
        "\n",
        "Al generar un conjunto de datos basado en estas preguntas, podemos obtener una visión más completa y detallada de la cirrosis hepática, lo que a su vez nos ayudará a desarrollar mejores estrategias de diagnóstico, tratamiento y prevención. Por lo tanto, la formulación de preguntas adecuadas es un paso crucial en el proceso de investigación y análisis de datos."
      ],
      "metadata": {
        "id": "oFbX_3pRU2jf"
      }
    },
    {
      "cell_type": "markdown",
      "source": [
        "### Preparar\n",
        "\n",
        "Entender los tipos de datos que estaremos procesando es fundamental por varias razones:\n",
        "\n",
        "1. **Interpretación adecuada**: Conocer el tipo de datos nos permite interpretarlos correctamente. Por ejemplo, si una columna contiene datos categóricos, como \"Sí\" o \"No\", sabemos que se refiere a la presencia o ausencia de cierta característica. Por otro lado, si una columna contiene datos numéricos, podemos realizar cálculos y análisis estadísticos sobre ellos.\n",
        "\n",
        "2. **Selección de técnicas de análisis apropiadas**: Los diferentes tipos de datos requieren diferentes técnicas de análisis. Por ejemplo, para datos categóricos, podríamos utilizar análisis de frecuencia o pruebas de chi-cuadrado, mientras que para datos numéricos, podríamos utilizar correlación o regresión lineal. Comprender los tipos de datos nos ayuda a seleccionar las herramientas y métodos de análisis más adecuados para nuestro conjunto de datos.\n",
        "\n",
        "3. **Preparación de datos efectiva**: Antes de realizar análisis más avanzados, es necesario realizar tareas de preparación de datos, como limpieza, transformación y normalización. El tipo de datos influye en cómo abordamos estas tareas. Por ejemplo, para datos faltantes en una columna numérica, podríamos optar por imputar la media o la mediana, mientras que para datos categóricos, podríamos optar por imputar la moda. Conocer los tipos de datos nos ayuda a tomar decisiones informadas durante la preparación de datos.\n",
        "\n",
        "4. **Evitar errores de análisis**: Si no entendemos correctamente los tipos de datos, corremos el riesgo de cometer errores durante el análisis. Por ejemplo, tratar datos categóricos como numéricos podría llevar a conclusiones incorrectas. Al comprender los tipos de datos, podemos evitar estos errores y garantizar la precisión y validez de nuestros resultados.\n",
        "\n",
        "En resumen, comprender los tipos de datos que estaremos procesando es esencial para realizar un análisis de datos efectivo y obtener conclusiones significativas. Nos permite interpretar correctamente los datos, seleccionar las técnicas de análisis adecuadas, preparar los datos de manera efectiva y evitar errores durante el proceso de análisis.\n",
        "\n",
        "Para leer un archivo CSV desde Google Colab, primero necesitas cargar el archivo desde tu sistema local al entorno de Colab utilizando la función `files.upload()`. Luego, puedes utilizar la biblioteca Pandas para leer el archivo CSV y almacenarlo en un DataFrame."
      ],
      "metadata": {
        "id": "lprvE40iXJVi"
      }
    },
    {
      "cell_type": "code",
      "source": [
        "from google.colab import files\n",
        "import pandas as pd\n",
        "\n",
        "# Cargar el archivo CSV desde el sistema local\n",
        "uploaded = files.upload()\n",
        "\n",
        "# Leer el archivo CSV y almacenarlo en un DataFrame\n",
        "df = pd.read_csv('cirrhosis.csv')"
      ],
      "metadata": {
        "colab": {
          "base_uri": "https://localhost:8080/",
          "height": 73
        },
        "id": "Tj5nDVUpY547",
        "outputId": "3b6a2a21-f905-41ef-9e16-769ebc067c0a"
      },
      "execution_count": null,
      "outputs": [
        {
          "output_type": "display_data",
          "data": {
            "text/plain": [
              "<IPython.core.display.HTML object>"
            ],
            "text/html": [
              "\n",
              "     <input type=\"file\" id=\"files-cc851b7d-018c-4883-85d7-62284c907976\" name=\"files[]\" multiple disabled\n",
              "        style=\"border:none\" />\n",
              "     <output id=\"result-cc851b7d-018c-4883-85d7-62284c907976\">\n",
              "      Upload widget is only available when the cell has been executed in the\n",
              "      current browser session. Please rerun this cell to enable.\n",
              "      </output>\n",
              "      <script>// Copyright 2017 Google LLC\n",
              "//\n",
              "// Licensed under the Apache License, Version 2.0 (the \"License\");\n",
              "// you may not use this file except in compliance with the License.\n",
              "// You may obtain a copy of the License at\n",
              "//\n",
              "//      http://www.apache.org/licenses/LICENSE-2.0\n",
              "//\n",
              "// Unless required by applicable law or agreed to in writing, software\n",
              "// distributed under the License is distributed on an \"AS IS\" BASIS,\n",
              "// WITHOUT WARRANTIES OR CONDITIONS OF ANY KIND, either express or implied.\n",
              "// See the License for the specific language governing permissions and\n",
              "// limitations under the License.\n",
              "\n",
              "/**\n",
              " * @fileoverview Helpers for google.colab Python module.\n",
              " */\n",
              "(function(scope) {\n",
              "function span(text, styleAttributes = {}) {\n",
              "  const element = document.createElement('span');\n",
              "  element.textContent = text;\n",
              "  for (const key of Object.keys(styleAttributes)) {\n",
              "    element.style[key] = styleAttributes[key];\n",
              "  }\n",
              "  return element;\n",
              "}\n",
              "\n",
              "// Max number of bytes which will be uploaded at a time.\n",
              "const MAX_PAYLOAD_SIZE = 100 * 1024;\n",
              "\n",
              "function _uploadFiles(inputId, outputId) {\n",
              "  const steps = uploadFilesStep(inputId, outputId);\n",
              "  const outputElement = document.getElementById(outputId);\n",
              "  // Cache steps on the outputElement to make it available for the next call\n",
              "  // to uploadFilesContinue from Python.\n",
              "  outputElement.steps = steps;\n",
              "\n",
              "  return _uploadFilesContinue(outputId);\n",
              "}\n",
              "\n",
              "// This is roughly an async generator (not supported in the browser yet),\n",
              "// where there are multiple asynchronous steps and the Python side is going\n",
              "// to poll for completion of each step.\n",
              "// This uses a Promise to block the python side on completion of each step,\n",
              "// then passes the result of the previous step as the input to the next step.\n",
              "function _uploadFilesContinue(outputId) {\n",
              "  const outputElement = document.getElementById(outputId);\n",
              "  const steps = outputElement.steps;\n",
              "\n",
              "  const next = steps.next(outputElement.lastPromiseValue);\n",
              "  return Promise.resolve(next.value.promise).then((value) => {\n",
              "    // Cache the last promise value to make it available to the next\n",
              "    // step of the generator.\n",
              "    outputElement.lastPromiseValue = value;\n",
              "    return next.value.response;\n",
              "  });\n",
              "}\n",
              "\n",
              "/**\n",
              " * Generator function which is called between each async step of the upload\n",
              " * process.\n",
              " * @param {string} inputId Element ID of the input file picker element.\n",
              " * @param {string} outputId Element ID of the output display.\n",
              " * @return {!Iterable<!Object>} Iterable of next steps.\n",
              " */\n",
              "function* uploadFilesStep(inputId, outputId) {\n",
              "  const inputElement = document.getElementById(inputId);\n",
              "  inputElement.disabled = false;\n",
              "\n",
              "  const outputElement = document.getElementById(outputId);\n",
              "  outputElement.innerHTML = '';\n",
              "\n",
              "  const pickedPromise = new Promise((resolve) => {\n",
              "    inputElement.addEventListener('change', (e) => {\n",
              "      resolve(e.target.files);\n",
              "    });\n",
              "  });\n",
              "\n",
              "  const cancel = document.createElement('button');\n",
              "  inputElement.parentElement.appendChild(cancel);\n",
              "  cancel.textContent = 'Cancel upload';\n",
              "  const cancelPromise = new Promise((resolve) => {\n",
              "    cancel.onclick = () => {\n",
              "      resolve(null);\n",
              "    };\n",
              "  });\n",
              "\n",
              "  // Wait for the user to pick the files.\n",
              "  const files = yield {\n",
              "    promise: Promise.race([pickedPromise, cancelPromise]),\n",
              "    response: {\n",
              "      action: 'starting',\n",
              "    }\n",
              "  };\n",
              "\n",
              "  cancel.remove();\n",
              "\n",
              "  // Disable the input element since further picks are not allowed.\n",
              "  inputElement.disabled = true;\n",
              "\n",
              "  if (!files) {\n",
              "    return {\n",
              "      response: {\n",
              "        action: 'complete',\n",
              "      }\n",
              "    };\n",
              "  }\n",
              "\n",
              "  for (const file of files) {\n",
              "    const li = document.createElement('li');\n",
              "    li.append(span(file.name, {fontWeight: 'bold'}));\n",
              "    li.append(span(\n",
              "        `(${file.type || 'n/a'}) - ${file.size} bytes, ` +\n",
              "        `last modified: ${\n",
              "            file.lastModifiedDate ? file.lastModifiedDate.toLocaleDateString() :\n",
              "                                    'n/a'} - `));\n",
              "    const percent = span('0% done');\n",
              "    li.appendChild(percent);\n",
              "\n",
              "    outputElement.appendChild(li);\n",
              "\n",
              "    const fileDataPromise = new Promise((resolve) => {\n",
              "      const reader = new FileReader();\n",
              "      reader.onload = (e) => {\n",
              "        resolve(e.target.result);\n",
              "      };\n",
              "      reader.readAsArrayBuffer(file);\n",
              "    });\n",
              "    // Wait for the data to be ready.\n",
              "    let fileData = yield {\n",
              "      promise: fileDataPromise,\n",
              "      response: {\n",
              "        action: 'continue',\n",
              "      }\n",
              "    };\n",
              "\n",
              "    // Use a chunked sending to avoid message size limits. See b/62115660.\n",
              "    let position = 0;\n",
              "    do {\n",
              "      const length = Math.min(fileData.byteLength - position, MAX_PAYLOAD_SIZE);\n",
              "      const chunk = new Uint8Array(fileData, position, length);\n",
              "      position += length;\n",
              "\n",
              "      const base64 = btoa(String.fromCharCode.apply(null, chunk));\n",
              "      yield {\n",
              "        response: {\n",
              "          action: 'append',\n",
              "          file: file.name,\n",
              "          data: base64,\n",
              "        },\n",
              "      };\n",
              "\n",
              "      let percentDone = fileData.byteLength === 0 ?\n",
              "          100 :\n",
              "          Math.round((position / fileData.byteLength) * 100);\n",
              "      percent.textContent = `${percentDone}% done`;\n",
              "\n",
              "    } while (position < fileData.byteLength);\n",
              "  }\n",
              "\n",
              "  // All done.\n",
              "  yield {\n",
              "    response: {\n",
              "      action: 'complete',\n",
              "    }\n",
              "  };\n",
              "}\n",
              "\n",
              "scope.google = scope.google || {};\n",
              "scope.google.colab = scope.google.colab || {};\n",
              "scope.google.colab._files = {\n",
              "  _uploadFiles,\n",
              "  _uploadFilesContinue,\n",
              "};\n",
              "})(self);\n",
              "</script> "
            ]
          },
          "metadata": {}
        },
        {
          "output_type": "stream",
          "name": "stdout",
          "text": [
            "Saving cirrhosis.csv to cirrhosis (3).csv\n"
          ]
        }
      ]
    },
    {
      "cell_type": "markdown",
      "source": [
        "Es importante comprender la estructura y el contenido del conjunto de datos para poder realizar un análisis adecuado. Esto implica comprender qué tipo de datos contiene cada columna, qué significan y cómo se relacionan con las preguntas de investigación planteadas."
      ],
      "metadata": {
        "id": "xglMn80JaPry"
      }
    },
    {
      "cell_type": "code",
      "source": [
        "# Mostrar las primeras filas del DataFrame\n",
        "print(\"Primeras filas del DataFrame:\")\n",
        "print(df.head())"
      ],
      "metadata": {
        "colab": {
          "base_uri": "https://localhost:8080/"
        },
        "id": "1MUv-BMGaW8L",
        "outputId": "3c082e03-2a25-41a2-dbfc-1404de125fe6"
      },
      "execution_count": null,
      "outputs": [
        {
          "output_type": "stream",
          "name": "stdout",
          "text": [
            "Primeras filas del DataFrame:\n",
            "   ID  N_Days Status             Drug    Age Sex Ascites Hepatomegaly Spiders  \\\n",
            "0   1     400      D  D-penicillamine  21464   F       Y            Y       Y   \n",
            "1   2    4500      C  D-penicillamine  20617   F       N            Y       Y   \n",
            "2   3    1012      D  D-penicillamine  25594   M       N            N       N   \n",
            "3   4    1925      D  D-penicillamine  19994   F       N            Y       Y   \n",
            "4   5    1504     CL          Placebo  13918   F       N            Y       Y   \n",
            "\n",
            "  Edema  Bilirubin  Cholesterol  Albumin  Copper  Alk_Phos    SGOT  \\\n",
            "0     Y       14.5        261.0     2.60   156.0    1718.0  137.95   \n",
            "1     N        1.1        302.0     4.14    54.0    7394.8  113.52   \n",
            "2     S        1.4        176.0     3.48   210.0     516.0   96.10   \n",
            "3     S        1.8        244.0     2.54    64.0    6121.8   60.63   \n",
            "4     N        3.4        279.0     3.53   143.0     671.0  113.15   \n",
            "\n",
            "   Tryglicerides  Platelets  Prothrombin  Stage  \n",
            "0          172.0      190.0         12.2    4.0  \n",
            "1           88.0      221.0         10.6    3.0  \n",
            "2           55.0      151.0         12.0    4.0  \n",
            "3           92.0      183.0         10.3    4.0  \n",
            "4           72.0      136.0         10.9    3.0  \n"
          ]
        }
      ]
    },
    {
      "cell_type": "code",
      "source": [
        "# Descripción estadística del DataFrame\n",
        "print(\"\\nDescripción del DataFrame:\")\n",
        "print(df.describe())"
      ],
      "metadata": {
        "colab": {
          "base_uri": "https://localhost:8080/"
        },
        "id": "ldoIZu-QdtcU",
        "outputId": "558f11d4-9bb9-4c3e-dd86-4c451c3bc75a"
      },
      "execution_count": null,
      "outputs": [
        {
          "output_type": "stream",
          "name": "stdout",
          "text": [
            "\n",
            "Descripción del DataFrame:\n",
            "               ID       N_Days           Age   Bilirubin  Cholesterol  \\\n",
            "count  418.000000   418.000000    418.000000  418.000000   284.000000   \n",
            "mean   209.500000  1917.782297  18533.351675    3.220813   369.510563   \n",
            "std    120.810458  1104.672992   3815.845055    4.407506   231.944545   \n",
            "min      1.000000    41.000000   9598.000000    0.300000   120.000000   \n",
            "25%    105.250000  1092.750000  15644.500000    0.800000   249.500000   \n",
            "50%    209.500000  1730.000000  18628.000000    1.400000   309.500000   \n",
            "75%    313.750000  2613.500000  21272.500000    3.400000   400.000000   \n",
            "max    418.000000  4795.000000  28650.000000   28.000000  1775.000000   \n",
            "\n",
            "          Albumin      Copper      Alk_Phos        SGOT  Tryglicerides  \\\n",
            "count  418.000000  310.000000    312.000000  312.000000     282.000000   \n",
            "mean     3.497440   97.648387   1982.655769  122.556346     124.702128   \n",
            "std      0.424972   85.613920   2140.388824   56.699525      65.148639   \n",
            "min      1.960000    4.000000    289.000000   26.350000      33.000000   \n",
            "25%      3.242500   41.250000    871.500000   80.600000      84.250000   \n",
            "50%      3.530000   73.000000   1259.000000  114.700000     108.000000   \n",
            "75%      3.770000  123.000000   1980.000000  151.900000     151.000000   \n",
            "max      4.640000  588.000000  13862.400000  457.250000     598.000000   \n",
            "\n",
            "        Platelets  Prothrombin       Stage  \n",
            "count  407.000000   416.000000  412.000000  \n",
            "mean   257.024570    10.731731    3.024272  \n",
            "std     98.325585     1.022000    0.882042  \n",
            "min     62.000000     9.000000    1.000000  \n",
            "25%    188.500000    10.000000    2.000000  \n",
            "50%    251.000000    10.600000    3.000000  \n",
            "75%    318.000000    11.100000    4.000000  \n",
            "max    721.000000    18.000000    4.000000  \n"
          ]
        }
      ]
    },
    {
      "cell_type": "code",
      "source": [
        "# Información sobre el tipo de datos y valores no nulos en cada columna\n",
        "print(\"\\nInformación del DataFrame:\")\n",
        "print(df.info())"
      ],
      "metadata": {
        "colab": {
          "base_uri": "https://localhost:8080/"
        },
        "id": "r_VYk13OdvML",
        "outputId": "56769d8e-6b7a-47de-b462-cdacedc42336"
      },
      "execution_count": null,
      "outputs": [
        {
          "output_type": "stream",
          "name": "stdout",
          "text": [
            "\n",
            "Información del DataFrame:\n",
            "<class 'pandas.core.frame.DataFrame'>\n",
            "RangeIndex: 418 entries, 0 to 417\n",
            "Data columns (total 20 columns):\n",
            " #   Column         Non-Null Count  Dtype  \n",
            "---  ------         --------------  -----  \n",
            " 0   ID             418 non-null    int64  \n",
            " 1   N_Days         418 non-null    int64  \n",
            " 2   Status         418 non-null    object \n",
            " 3   Drug           312 non-null    object \n",
            " 4   Age            418 non-null    int64  \n",
            " 5   Sex            418 non-null    object \n",
            " 6   Ascites        312 non-null    object \n",
            " 7   Hepatomegaly   312 non-null    object \n",
            " 8   Spiders        312 non-null    object \n",
            " 9   Edema          418 non-null    object \n",
            " 10  Bilirubin      418 non-null    float64\n",
            " 11  Cholesterol    284 non-null    float64\n",
            " 12  Albumin        418 non-null    float64\n",
            " 13  Copper         310 non-null    float64\n",
            " 14  Alk_Phos       312 non-null    float64\n",
            " 15  SGOT           312 non-null    float64\n",
            " 16  Tryglicerides  282 non-null    float64\n",
            " 17  Platelets      407 non-null    float64\n",
            " 18  Prothrombin    416 non-null    float64\n",
            " 19  Stage          412 non-null    float64\n",
            "dtypes: float64(10), int64(3), object(7)\n",
            "memory usage: 65.4+ KB\n",
            "None\n"
          ]
        }
      ]
    },
    {
      "cell_type": "markdown",
      "source": [
        "El código anterior mostrará las primeras filas del DataFrame para tener una idea inicial de la estructura de los datos, seguido de una descripción estadística que proporciona información sobre la distribución de los valores en cada columna. Además, se imprimirá información sobre el tipo de datos y la cantidad de valores no nulos en cada columna para comprender mejor la integridad de los datos.\n",
        "\n"
      ],
      "metadata": {
        "id": "JCF6s0NjaqhU"
      }
    },
    {
      "cell_type": "markdown",
      "source": [
        "La edad del paciente esta días. Para transformar la edad del paciente de días a años, podemos dividir cada valor en la columna 'Age' por 365, que es el número aproximado de días en un año. Aquí tienes el código para realizar esta transformación:\n",
        "\n"
      ],
      "metadata": {
        "id": "1-1vaIpIaFBc"
      }
    },
    {
      "cell_type": "code",
      "source": [
        "# Transformar la edad del paciente de días a años\n",
        "df['Age'] = df['Age'] / 365"
      ],
      "metadata": {
        "id": "FYN1jV_raEww"
      },
      "execution_count": null,
      "outputs": []
    },
    {
      "cell_type": "markdown",
      "source": [
        "\n",
        "Este código divide cada valor en la columna *Age* por 365 y actualiza el DataFrame con los valores transformados. Ahora, la columna *Age* representará la edad del paciente en años en lugar de días."
      ],
      "metadata": {
        "id": "strs1Piqai9g"
      }
    },
    {
      "cell_type": "markdown",
      "source": [
        "La descripción del conjunto de datos con código nos ayudará a entender la naturaleza de los datos y su relevancia para las preguntas de investigación, lo que a su vez nos permitirá realizar un análisis más efectivo y obtener conclusiones significativas.\n",
        "\n",
        "**Descripcion de datos**\n",
        "\n",
        "Aquí está la descripción de cada columna del conjunto de datos y su importancia para las preguntas de investigación:\n",
        "\n",
        "1. **ID**: Este es un número entero que sirve como identificador único para cada paciente en el estudio. Es importante para poder realizar un seguimiento individual de cada paciente y asociar sus características con su estado de supervivencia.\n",
        "\n",
        "2. **N_Days**: Es un número entero que representa el número de días entre el registro del paciente y el evento más relevante (muerte, trasplante o análisis del estudio). Este dato es crucial para entender la duración de la observación de cada paciente en el estudio y su relación con el estado de supervivencia.\n",
        "\n",
        "3. **Status**: Es una variable categórica que indica el estado del paciente en el momento del evento más relevante. Los valores posibles son \"C\" (censurado), \"CL\" (censurado debido a trasplante de hígado) o \"D\" (muerte). Esta columna es fundamental para identificar los resultados del estudio y determinar los factores asociados con la supervivencia de los pacientes.\n",
        "\n",
        "4. **Drug**: Es una variable categórica que indica el tipo de medicamento recibido por el paciente: D-penicilamina o placebo. Este dato es importante para evaluar el efecto del tratamiento en la supervivencia de los pacientes y su progresión de la enfermedad.\n",
        "\n",
        "5. **Age**: Es un número entero que representa la edad del paciente en el momento del registro. La edad puede ser un factor importante en la progresión de la cirrosis hepática y en la respuesta al tratamiento.\n",
        "\n",
        "6. **Sex**: Es una variable categórica que indica el género del paciente (masculino o femenino). El género puede desempeñar un papel en la susceptibilidad a la cirrosis hepática y en la respuesta al tratamiento.\n",
        "\n",
        "7. **Ascites**: Es una variable categórica que indica la presencia de ascitis en el paciente (Sí o No). La ascitis es una complicación común de la cirrosis hepática y puede influir en la supervivencia del paciente.\n",
        "\n",
        "8. **Hepatomegaly**: Es una variable categórica que indica la presencia de hepatomegalia en el paciente (Sí o No). La hepatomegalia puede ser un signo de enfermedad hepática avanzada y puede estar relacionada con un peor pronóstico.\n",
        "\n",
        "9. **Spiders**: Es una variable categórica que indica la presencia de arañas vasculares en el paciente (Sí o No). Las arañas vasculares son un signo clásico de enfermedad hepática crónica y pueden estar asociadas con un mayor riesgo de complicaciones.\n",
        "\n",
        "10. **Edema**: Es una variable categórica que indica la presencia de edema en el paciente (No, Sí sin terapia diurética o Sí a pesar de la terapia diurética). El edema es una complicación común de la cirrosis hepática y puede afectar la calidad de vida y la supervivencia del paciente.\n",
        "\n",
        "11. **Bilirrubina**: Es una variable continua que representa el nivel de bilirrubina sérica en el paciente, medida en mg/dl. La bilirrubina es un marcador importante de la función hepática y puede estar elevada en pacientes con cirrosis hepática.\n",
        "\n",
        "12. **Colesterol**: Es un número entero que representa el nivel de colesterol sérico en el paciente, medido en mg/dl. Los niveles de colesterol pueden estar alterados en pacientes con enfermedad hepática y pueden influir en el riesgo cardiovascular.\n",
        "\n",
        "13. **Albumina**: Es una variable continua que representa el nivel de albúmina sérica en el paciente, medida en gm/dl. La albúmina es una proteína producida por el hígado y los niveles bajos pueden indicar disfunción hepática.\n",
        "\n",
        "14. **Cobre**: Es un número entero que representa el nivel de cobre en la orina del paciente, medido en ug/día. La acumulación de cobre en el cuerpo puede ser un signo de enfermedades hepáticas como la enfermedad de Wilson.\n",
        "\n",
        "15. **Alk_Phos**: Es una variable continua que representa el nivel de fosfatasa alcalina en el suero del paciente, medida en u/liter. La fosfatasa alcalina es una enzima producida por el hígado y su nivel puede estar elevado en pacientes con enfermedades hepáticas.\n",
        "\n",
        "16. **SGOT**: Es una variable continua que representa el nivel de aspartato aminotransferasa en el suero del paciente, medida en u/ml. Los niveles elevados de SGOT pueden indicar daño hepático.\n",
        "\n",
        "17. **Triglicéridos**: Es un número entero que representa el nivel de triglicéridos en el suero del paciente, medido en mg/dl. Los niveles elevados de triglicéridos pueden estar asociados con enfermedades hepáticas y metabólicas.\n",
        "\n",
        "18. **Plaquetas**: Es un número entero que representa el recuento de plaquetas en la sangre del paciente, medido por ml/1000. Los niveles bajos de plaquetas pueden ser un signo de disfunción hepática.\n",
        "\n",
        "19. **Prothrombin**: Es una variable continua que representa el tiempo de protrombina del paciente, medido en segundos. La protrombina es una proteína producida por el hígado y su tiempo de coagulación puede estar prolongado en pacientes con enfermedad hepática.\n",
        "\n",
        "20. **Stage**: Es una variable categórica que indica el estadio histológico de la enfermedad hepática (1, 2, 3 o 4). El estadio histológico puede proporcionar información sobre la gravedad y la progresión de la enfermedad.\n",
        "\n",
        "Cada uno de estos datos es importante para comprender mejor la cirrosis hepática y su impacto en la salud de los pacientes. Al analizar estos datos en conjunto, podemos identificar factores de riesgo, entender la progresión de la enfermedad y desarrollar estrategias de tratamiento más efectivas."
      ],
      "metadata": {
        "id": "DXOaTTMMZ_m2"
      }
    },
    {
      "cell_type": "markdown",
      "source": [
        "### Procesar\n",
        "\n",
        "Preparar los datos es un paso crucial en el proceso de análisis de datos, ya que garantiza que los datos estén en un formato adecuado y sean aptos para el análisis. La preparación de datos implica limpiar, transformar y preprocesar los datos para eliminar errores, inconsistencias y valores faltantes, y garantizar la calidad y la integridad de los datos.\n",
        "\n",
        "En el caso de las columnas que tienen valores de N/A (es decir, datos faltantes), es importante abordar esta situación de manera adecuada. Ignorar los valores faltantes puede sesgar los resultados del análisis y afectar la precisión de las conclusiones. Por lo tanto, es necesario tomar medidas para manejar los valores faltantes de manera adecuada.\n",
        "\n",
        "Una opción es eliminar las filas que contienen valores de N/A en las columnas relevantes. Esto se puede hacer utilizando el método `dropna()` de Pandas. Sin embargo, esta opción puede llevar a la pérdida de datos, especialmente si hay una cantidad significativa de valores faltantes.\n",
        "\n",
        "Otra opción es imputar los valores faltantes utilizando técnicas como la imputación media, mediana o moda, dependiendo del tipo de datos y la distribución de los valores. Esto implica reemplazar los valores faltantes con un valor estimado basado en los valores observados en otras filas. La imputación se puede realizar utilizando el método `fillna()` de Pandas.\n",
        "\n",
        "En este caso, como las columnas con valores de N/A son de diversos tipos (categóricas y numéricas), podríamos optar por la imputación media para las columnas numéricas y la imputación de moda para las columnas categóricas. Esto nos permitirá mantener la integridad de los datos y evitar la pérdida de información.\n",
        "\n",
        "A continuación, se muestra cómo podemos manejar los valores faltantes en las columnas relevantes utilizando Python.\n",
        "\n",
        "El siguiente código realiza la imputación de valores faltantes en un DataFrame `df` para asegurar que no haya datos faltantes antes de realizar análisis posteriores. Aquí está el paso a paso de lo que hace cada parte del código:\n",
        "\n",
        "1. **Imputar la moda para las columnas categóricas**:"
      ],
      "metadata": {
        "id": "IN56ZEi4baa4"
      }
    },
    {
      "cell_type": "code",
      "source": [
        "# Imputar la moda para las columnas categóricas\n",
        "categorical_columns = ['Ascites', 'Hepatomegaly', 'Spiders']\n",
        "for col in categorical_columns:\n",
        "    df[col].fillna(df[col].mode()[0], inplace=True)"
      ],
      "metadata": {
        "id": "eN5t1CCSddbj"
      },
      "execution_count": null,
      "outputs": []
    },
    {
      "cell_type": "markdown",
      "source": [
        "\n",
        "   - Se define una lista llamada `categorical_columns` que contiene los nombres de las columnas categóricas que tienen valores faltantes ('Ascites', 'Hepatomegaly', 'Spiders').\n",
        "   - Se itera sobre cada columna categórica en la lista `categorical_columns`.\n",
        "   - Para cada columna, se utiliza el método `mode()` de Pandas para calcular la moda de esa columna, que es el valor más frecuente.\n",
        "   - El valor de moda se asigna a los valores faltantes en esa columna utilizando el método `fillna()` de Pandas. `inplace=True` indica que la imputación se realiza directamente en el DataFrame original."
      ],
      "metadata": {
        "id": "urborjX8emx6"
      }
    },
    {
      "cell_type": "markdown",
      "source": [
        "\n",
        "2. **Imputar la media para las columnas numéricas**:\n",
        "\n",
        "Se hace lo mismo para las columnas numéricas:"
      ],
      "metadata": {
        "id": "BOKg-RMafOI-"
      }
    },
    {
      "cell_type": "code",
      "source": [
        "# Imputar la media para las columnas numéricas\n",
        "numeric_columns = ['Cholesterol', 'Copper', 'Alk_Phos', 'SGOT', 'Tryglicerides', 'Platelets', 'Prothrombin']\n",
        "for col in numeric_columns:\n",
        "    df[col].fillna(df[col].mean(), inplace=True)"
      ],
      "metadata": {
        "id": "qaY_tZkQejkF"
      },
      "execution_count": null,
      "outputs": []
    },
    {
      "cell_type": "markdown",
      "source": [
        "\n",
        "   - Se define una lista llamada `numeric_columns` que contiene los nombres de las columnas numéricas que tienen valores faltantes ('Cholesterol', 'Copper', 'Alk_Phos', 'SGOT', 'Tryglicerides', 'Platelets', 'Prothrombin').\n",
        "   - Se itera sobre cada columna numérica en la lista `numeric_columns`.\n",
        "   - Para cada columna, se utiliza el método `mean()` de Pandas para calcular la media de esa columna.\n",
        "   - El valor de la media se asigna a los valores faltantes en esa columna utilizando el método `fillna()` de Pandas. `inplace=True` indica que la imputación se realiza directamente en el DataFrame original."
      ],
      "metadata": {
        "id": "Mq-yUtA1evcD"
      }
    },
    {
      "cell_type": "markdown",
      "source": [
        "3. **Verificar que no hay valores faltantes**:"
      ],
      "metadata": {
        "id": "AxisOle9fj60"
      }
    },
    {
      "cell_type": "code",
      "source": [
        "# Verificar que no hay valores faltantes\n",
        "print(\"Valores faltantes después de la imputación:\")\n",
        "print(df.isnull().sum())"
      ],
      "metadata": {
        "colab": {
          "base_uri": "https://localhost:8080/"
        },
        "id": "kM1OYWseelF3",
        "outputId": "14eb8995-19fd-4da2-f67f-d60610b06083"
      },
      "execution_count": null,
      "outputs": [
        {
          "output_type": "stream",
          "name": "stdout",
          "text": [
            "Valores faltantes después de la imputación:\n",
            "ID                 0\n",
            "N_Days             0\n",
            "Status             0\n",
            "Drug             106\n",
            "Age                0\n",
            "Sex                0\n",
            "Ascites            0\n",
            "Hepatomegaly       0\n",
            "Spiders            0\n",
            "Edema              0\n",
            "Bilirubin          0\n",
            "Cholesterol        0\n",
            "Albumin            0\n",
            "Copper             0\n",
            "Alk_Phos           0\n",
            "SGOT               0\n",
            "Tryglicerides      0\n",
            "Platelets          0\n",
            "Prothrombin        0\n",
            "Stage              6\n",
            "dtype: int64\n"
          ]
        }
      ]
    },
    {
      "cell_type": "markdown",
      "source": [
        "\n",
        "\n",
        "   - Se imprime un mensaje indicando que se están verificando los valores faltantes después de la imputación.\n",
        "   - Se utiliza el método `isnull().sum()` de Pandas para calcular la cantidad de valores faltantes en cada columna del DataFrame.\n",
        "   - Se imprime el resultado, que mostrará la suma de valores faltantes por columna. Si no hay valores faltantes, todos los resultados deberían ser cero.\n",
        "\n",
        "En resumen, este código realiza la imputación de valores faltantes utilizando la moda para columnas categóricas y la media para columnas numéricas, y luego verifica que no haya valores faltantes en el DataFrame resultante. Esto garantiza que los datos estén listos para su análisis posterior."
      ],
      "metadata": {
        "id": "ng6lUyIjfgm2"
      }
    }
  ]
}