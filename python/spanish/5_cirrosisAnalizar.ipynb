{
  "nbformat": 4,
  "nbformat_minor": 0,
  "metadata": {
    "colab": {
      "provenance": []
    },
    "kernelspec": {
      "name": "python3",
      "display_name": "Python 3"
    },
    "language_info": {
      "name": "python"
    }
  },
  "cells": [
    {
      "cell_type": "markdown",
      "source": [
        "### Analizar\n",
        "\n",
        "**Autor: German Preciat**; Universidad de Guadalajara\n",
        "\n",
        "**Carrera: Ing. Biomédica**\n",
        "\n",
        "**Materia: Analisis de datos clínicos**\n",
        "\n",
        "**Contacto: german.preciat@academicos.udg.mx**\n",
        "\n",
        "Scikit-learn (sklearn) es una biblioteca de aprendizaje automático en Python que proporciona herramientas simples y eficientes para la minería y el análisis de datos. Incluye varios algoritmos de clasificación, regresión, clustering y preprocesamiento de datos, así como herramientas para evaluar y ajustar modelos.\n"
      ],
      "metadata": {
        "id": "is3LZuPXkl5w"
      }
    },
    {
      "cell_type": "code",
      "source": [
        "from sklearn.model_selection import train_test_split"
      ],
      "metadata": {
        "id": "AZuyUff4PQuS"
      },
      "execution_count": null,
      "outputs": []
    },
    {
      "cell_type": "markdown",
      "source": [
        "La línea de código `from sklearn.model_selection import train_test_split` importa la función `train_test_split` de la sublibrería `model_selection` de scikit-learn. Esta función es una herramienta esencial en el análisis de datos y el aprendizaje automático, especialmente para evaluar el rendimiento de los modelos y evitar el sobreajuste.\n",
        "\n",
        "La función `train_test_split` divide un conjunto de datos en dos conjuntos más pequeños: un conjunto de entrenamiento y un conjunto de prueba. Esto es fundamental para evaluar la capacidad predictiva de un modelo, ya que permite entrenar el modelo en una parte de los datos y luego evaluar su rendimiento en datos no vistos."
      ],
      "metadata": {
        "id": "gqell9dXPmJ-"
      }
    },
    {
      "cell_type": "code",
      "source": [
        "from sklearn.linear_model import LogisticRegression"
      ],
      "metadata": {
        "id": "1gGDLUl0RL9k"
      },
      "execution_count": null,
      "outputs": []
    },
    {
      "cell_type": "markdown",
      "source": [
        "La línea de código `from sklearn.linear_model import LogisticRegression` importa la clase `LogisticRegression` del módulo `linear_model` de la biblioteca scikit-learn (sklearn). Esta clase implementa la regresión logística, que es un modelo estadístico utilizado para la clasificación binaria y multiclase.\n",
        "\n",
        "Aquí hay una descripción de la regresión logística y cómo se utiliza en el aprendizaje automático:\n",
        "\n",
        "- **Regresión Logística**:\n",
        "  - La regresión logística es un modelo de clasificación que se utiliza para predecir la probabilidad de que una instancia pertenezca a una clase particular.\n",
        "  - Aunque se llama \"regresión\", la regresión logística se utiliza comúnmente para problemas de clasificación.\n",
        "  - La regresión logística utiliza una función logística para modelar la relación entre las variables independientes y la probabilidad de que una instancia pertenezca a una clase.\n",
        "  - Es un modelo lineal generalizado que utiliza la función sigmoide para transformar la salida lineal en una probabilidad en el rango de 0 a 1.\n",
        "\n",
        "- **Uso de `LogisticRegression` en scikit-learn**:\n",
        "  - `LogisticRegression` es una implementación de la regresión logística en scikit-learn.\n",
        "  - Se utiliza para entrenar modelos de regresión logística en conjuntos de datos de entrenamiento.\n",
        "  - Puede manejar tanto problemas de clasificación binaria como multiclase.\n",
        "  - La clase `LogisticRegression` en scikit-learn admite regularización para controlar el sobreajuste y mejorar el rendimiento del modelo.\n",
        "  - Puede configurar varios hiperparámetros, como el tipo de regularización (L1 o L2), la fuerza de regularización y la tolerancia para la convergencia del algoritmo.\n",
        "\n",
        "En resumen, `LogisticRegression` en scikit-learn es una herramienta poderosa y fácil de usar para entrenar modelos de regresión logística y realizar tareas de clasificación en conjuntos de datos de aprendizaje automático. Es ampliamente utilizado en aplicaciones de ciencia de datos y aprendizaje automático para resolver una variedad de problemas de clasificación."
      ],
      "metadata": {
        "id": "uuU5PnwdRMQP"
      }
    },
    {
      "cell_type": "code",
      "source": [
        "from sklearn.preprocessing import StandardScaler"
      ],
      "metadata": {
        "id": "qRcOBIwOP09c"
      },
      "execution_count": null,
      "outputs": []
    },
    {
      "cell_type": "markdown",
      "source": [
        "La línea de código `from sklearn.preprocessing import StandardScaler` importa la clase `StandardScaler` de la sublibrería `preprocessing` de scikit-learn. Esta clase es una herramienta comúnmente utilizada en el preprocesamiento de datos en el aprendizaje automático, específicamente para estandarizar las características de un conjunto de datos.\n",
        "\n",
        "La estandarización es un proceso importante en el preprocesamiento de datos que transforma las características de manera que tengan una media de 0 y una desviación estándar de 1. Esto es útil porque muchos algoritmos de aprendizaje automático asumen que las características están centradas en cero y tienen la misma escala. La estandarización ayuda a garantizar que todas las características contribuyan de manera equitativa al modelo, sin que una característica con una escala más grande domine las demás."
      ],
      "metadata": {
        "id": "rbUXQGbnQJOM"
      }
    },
    {
      "cell_type": "code",
      "source": [
        "from sklearn.metrics import accuracy_score, classification_report, confusion_matrix"
      ],
      "metadata": {
        "id": "GQYTuvM5QNmt"
      },
      "execution_count": null,
      "outputs": []
    },
    {
      "cell_type": "markdown",
      "source": [
        "La línea de código `from sklearn.metrics import accuracy_score, classification_report, confusion_matrix` importa tres funciones importantes de la sublibrería `metrics` de scikit-learn. Estas funciones son fundamentales para evaluar el rendimiento de los modelos de clasificación en el aprendizaje automático.\n",
        "\n",
        "Aquí hay una descripción de cada una de estas funciones:\n",
        "\n",
        "1. **accuracy_score**:\n",
        "   - Esta función calcula la precisión del modelo, que es la proporción de predicciones correctas sobre el total de predicciones realizadas por el modelo.\n",
        "   - La precisión se calcula utilizando la fórmula: (número de predicciones correctas) / (número total de predicciones).\n",
        "   - Es una métrica comúnmente utilizada para evaluar modelos de clasificación cuando las clases están balanceadas.\n",
        "\n",
        "2. **classification_report**:\n",
        "   - Esta función genera un informe de clasificación que incluye varias métricas de evaluación del modelo, como precisión, recall, F1-score y soporte, para cada clase en el conjunto de datos.\n",
        "   - El informe de clasificación proporciona una descripción detallada del rendimiento del modelo, útil para comprender cómo el modelo se comporta en diferentes clases.\n",
        "\n",
        "3. **confusion_matrix**:\n",
        "   - Esta función calcula la matriz de confusión, que es una tabla que muestra el número de predicciones correctas e incorrectas realizadas por el modelo para cada clase.\n",
        "   - La matriz de confusión ayuda a visualizar el rendimiento del modelo y a identificar posibles áreas de mejora. Puede ser especialmente útil para comprender cómo el modelo clasifica incorrectamente las muestras.\n",
        "\n",
        "Estas funciones son esenciales para evaluar el rendimiento de los modelos de clasificación y proporcionar información detallada sobre su comportamiento en diferentes aspectos. Se utilizan comúnmente en la fase de evaluación del ciclo de desarrollo de modelos de aprendizaje automático para medir la calidad y la precisión de las predicciones del modelo."
      ],
      "metadata": {
        "id": "2_vNkaq2QN1R"
      }
    },
    {
      "cell_type": "markdown",
      "source": [
        "Ahora, vamos a responder las preguntas utilizando las herramientas de scikit-learn, pero antes repasemos las preguntas:\n",
        "\n",
        "1. ¿Cuál es la relación entre el tiempo transcurrido desde el registro y el estado del paciente (muerte, trasplante o análisis)?\n",
        "2. ¿Cómo afecta el tipo de medicamento administrado al estado del paciente?\n",
        "3. ¿Existe una correlación entre la edad del paciente y su estado de salud?\n",
        "4. ¿Hay diferencias en el estado de los pacientes en función de su género?\n",
        "5. ¿La presencia de ciertas condiciones médicas como ascitis, hepatomegalia, arañas vasculares o edema afecta la supervivencia de los pacientes?\n",
        "6. ¿Qué relación existe entre los niveles de diferentes biomarcadores como bilirrubina, colesterol, albúmina, cobre, fosfatasa alcalina, SGOT, triglicéridos, plaquetas y tiempo de protrombina con el estado de los pacientes?\n",
        "7. ¿El estadio histológico de la enfermedad tiene algún impacto en la supervivencia de los pacientes?"
      ],
      "metadata": {
        "id": "PpwLPuMGPRAa"
      }
    },
    {
      "cell_type": "markdown",
      "source": [
        "1. **Relación entre el tiempo**\n",
        "\n",
        "\n",
        "transcurrido desde el registro y el estado del paciente:**:"
      ],
      "metadata": {
        "id": "4wv3G8EOOkPl"
      }
    },
    {
      "cell_type": "code",
      "source": [
        "# Dividir el conjunto de datos en características (X) y variable objetivo (y)\n",
        "X = df['N_Days'].values.reshape(-1, 1)\n",
        "y = df['Status']"
      ],
      "metadata": {
        "id": "OhUji_CfO5yk"
      },
      "execution_count": null,
      "outputs": []
    },
    {
      "cell_type": "markdown",
      "source": [
        "   - Seleccionamos la característica 'N_Days' como nuestras variables predictoras (características) y la variable 'Status' como nuestra variable objetivo (etiqueta).\n",
        "   - Usamos `.values` para convertir las columnas seleccionadas en arreglos NumPy.\n",
        "   - Usamos `.reshape(-1, 1)` para asegurarnos de que la matriz de características tenga la forma correcta para scikit-learn, donde cada fila representa una observación y cada columna una característica."
      ],
      "metadata": {
        "id": "UAmGbPRQR-ol"
      }
    },
    {
      "cell_type": "code",
      "source": [
        "# Dividir los datos en conjuntos de entrenamiento y prueba\n",
        "X_train, X_test, y_train, y_test = train_test_split(X, y, test_size=0.2, random_state=42)"
      ],
      "metadata": {
        "id": "nldSkAQARp85"
      },
      "execution_count": null,
      "outputs": []
    },
    {
      "cell_type": "markdown",
      "source": [
        "\n",
        "   - Utilizamos la función `train_test_split` para dividir los datos en conjuntos de entrenamiento y prueba.\n",
        "   - Especificamos que el 20% de los datos se usarán como conjunto de prueba (`test_size=0.2`).\n",
        "   - `random_state=42` se utiliza para garantizar que la división de los datos sea reproducible.\n"
      ],
      "metadata": {
        "id": "4QuGCX60RqUF"
      }
    },
    {
      "cell_type": "code",
      "source": [
        "# Crear y entrenar un modelo de clasificación (por ejemplo, Regresión Logística)\n",
        "model = LogisticRegression()\n",
        "model.fit(X_train, y_train)"
      ],
      "metadata": {
        "colab": {
          "base_uri": "https://localhost:8080/",
          "height": 74
        },
        "id": "Ot0eWwTMRqjX",
        "outputId": "5bd87d77-0d4a-4b0b-92bd-c10caf13eae4"
      },
      "execution_count": null,
      "outputs": [
        {
          "output_type": "execute_result",
          "data": {
            "text/plain": [
              "LogisticRegression()"
            ],
            "text/html": [
              "<style>#sk-container-id-1 {color: black;background-color: white;}#sk-container-id-1 pre{padding: 0;}#sk-container-id-1 div.sk-toggleable {background-color: white;}#sk-container-id-1 label.sk-toggleable__label {cursor: pointer;display: block;width: 100%;margin-bottom: 0;padding: 0.3em;box-sizing: border-box;text-align: center;}#sk-container-id-1 label.sk-toggleable__label-arrow:before {content: \"▸\";float: left;margin-right: 0.25em;color: #696969;}#sk-container-id-1 label.sk-toggleable__label-arrow:hover:before {color: black;}#sk-container-id-1 div.sk-estimator:hover label.sk-toggleable__label-arrow:before {color: black;}#sk-container-id-1 div.sk-toggleable__content {max-height: 0;max-width: 0;overflow: hidden;text-align: left;background-color: #f0f8ff;}#sk-container-id-1 div.sk-toggleable__content pre {margin: 0.2em;color: black;border-radius: 0.25em;background-color: #f0f8ff;}#sk-container-id-1 input.sk-toggleable__control:checked~div.sk-toggleable__content {max-height: 200px;max-width: 100%;overflow: auto;}#sk-container-id-1 input.sk-toggleable__control:checked~label.sk-toggleable__label-arrow:before {content: \"▾\";}#sk-container-id-1 div.sk-estimator input.sk-toggleable__control:checked~label.sk-toggleable__label {background-color: #d4ebff;}#sk-container-id-1 div.sk-label input.sk-toggleable__control:checked~label.sk-toggleable__label {background-color: #d4ebff;}#sk-container-id-1 input.sk-hidden--visually {border: 0;clip: rect(1px 1px 1px 1px);clip: rect(1px, 1px, 1px, 1px);height: 1px;margin: -1px;overflow: hidden;padding: 0;position: absolute;width: 1px;}#sk-container-id-1 div.sk-estimator {font-family: monospace;background-color: #f0f8ff;border: 1px dotted black;border-radius: 0.25em;box-sizing: border-box;margin-bottom: 0.5em;}#sk-container-id-1 div.sk-estimator:hover {background-color: #d4ebff;}#sk-container-id-1 div.sk-parallel-item::after {content: \"\";width: 100%;border-bottom: 1px solid gray;flex-grow: 1;}#sk-container-id-1 div.sk-label:hover label.sk-toggleable__label {background-color: #d4ebff;}#sk-container-id-1 div.sk-serial::before {content: \"\";position: absolute;border-left: 1px solid gray;box-sizing: border-box;top: 0;bottom: 0;left: 50%;z-index: 0;}#sk-container-id-1 div.sk-serial {display: flex;flex-direction: column;align-items: center;background-color: white;padding-right: 0.2em;padding-left: 0.2em;position: relative;}#sk-container-id-1 div.sk-item {position: relative;z-index: 1;}#sk-container-id-1 div.sk-parallel {display: flex;align-items: stretch;justify-content: center;background-color: white;position: relative;}#sk-container-id-1 div.sk-item::before, #sk-container-id-1 div.sk-parallel-item::before {content: \"\";position: absolute;border-left: 1px solid gray;box-sizing: border-box;top: 0;bottom: 0;left: 50%;z-index: -1;}#sk-container-id-1 div.sk-parallel-item {display: flex;flex-direction: column;z-index: 1;position: relative;background-color: white;}#sk-container-id-1 div.sk-parallel-item:first-child::after {align-self: flex-end;width: 50%;}#sk-container-id-1 div.sk-parallel-item:last-child::after {align-self: flex-start;width: 50%;}#sk-container-id-1 div.sk-parallel-item:only-child::after {width: 0;}#sk-container-id-1 div.sk-dashed-wrapped {border: 1px dashed gray;margin: 0 0.4em 0.5em 0.4em;box-sizing: border-box;padding-bottom: 0.4em;background-color: white;}#sk-container-id-1 div.sk-label label {font-family: monospace;font-weight: bold;display: inline-block;line-height: 1.2em;}#sk-container-id-1 div.sk-label-container {text-align: center;}#sk-container-id-1 div.sk-container {/* jupyter's `normalize.less` sets `[hidden] { display: none; }` but bootstrap.min.css set `[hidden] { display: none !important; }` so we also need the `!important` here to be able to override the default hidden behavior on the sphinx rendered scikit-learn.org. See: https://github.com/scikit-learn/scikit-learn/issues/21755 */display: inline-block !important;position: relative;}#sk-container-id-1 div.sk-text-repr-fallback {display: none;}</style><div id=\"sk-container-id-1\" class=\"sk-top-container\"><div class=\"sk-text-repr-fallback\"><pre>LogisticRegression()</pre><b>In a Jupyter environment, please rerun this cell to show the HTML representation or trust the notebook. <br />On GitHub, the HTML representation is unable to render, please try loading this page with nbviewer.org.</b></div><div class=\"sk-container\" hidden><div class=\"sk-item\"><div class=\"sk-estimator sk-toggleable\"><input class=\"sk-toggleable__control sk-hidden--visually\" id=\"sk-estimator-id-1\" type=\"checkbox\" checked><label for=\"sk-estimator-id-1\" class=\"sk-toggleable__label sk-toggleable__label-arrow\">LogisticRegression</label><div class=\"sk-toggleable__content\"><pre>LogisticRegression()</pre></div></div></div></div></div>"
            ]
          },
          "metadata": {},
          "execution_count": 16
        }
      ]
    },
    {
      "cell_type": "markdown",
      "source": [
        "\n",
        "   - Creamos una instancia del modelo de Regresión Logística utilizando `LogisticRegression()`.\n",
        "   - Luego, ajustamos (entrenamos) el modelo utilizando los datos de entrenamiento (`X_train` y `y_train`) mediante el método `.fit()`.\n"
      ],
      "metadata": {
        "id": "SC-PzrQxRqtz"
      }
    },
    {
      "cell_type": "code",
      "source": [
        "# Predecir el estado del paciente en el conjunto de prueba\n",
        "y_pred = model.predict(X_test)"
      ],
      "metadata": {
        "id": "yGJtD4A6Rq63"
      },
      "execution_count": null,
      "outputs": []
    },
    {
      "cell_type": "markdown",
      "source": [
        "   \n",
        "   - Utilizamos el modelo entrenado para hacer predicciones sobre los datos de prueba (`X_test`) utilizando el método `.predict()`.\n"
      ],
      "metadata": {
        "id": "gxi9k5xQRrER"
      }
    },
    {
      "cell_type": "code",
      "source": [
        "# Evaluar la precisión del modelo\n",
        "accuracy = accuracy_score(y_test, y_pred)\n",
        "print(\"Precisión del modelo:\", accuracy)"
      ],
      "metadata": {
        "colab": {
          "base_uri": "https://localhost:8080/"
        },
        "id": "C6nCZ8r1RrNX",
        "outputId": "c6db0c34-4d70-4c8e-85b0-3909ae918bbb"
      },
      "execution_count": null,
      "outputs": [
        {
          "output_type": "stream",
          "name": "stdout",
          "text": [
            "Precisión del modelo: 0.6666666666666666\n"
          ]
        }
      ]
    },
    {
      "cell_type": "markdown",
      "source": [
        "\n",
        "   - Calculamos la precisión del modelo comparando las etiquetas verdaderas (`y_test`) con las predicciones del modelo (`y_pred`) utilizando la función `accuracy_score()`.\n",
        "   - De todas las muestras en el conjunto de prueba, aproximadamente el 66.67% de ellas fueron clasificadas correctamente por el modelo.\n"
      ],
      "metadata": {
        "id": "hNmuyrtRRrYM"
      }
    },
    {
      "cell_type": "code",
      "source": [
        "# Mostrar reporte de clasificación\n",
        "print(\"\\nReporte de clasificación:\")\n",
        "print(classification_report(y_test, y_pred))"
      ],
      "metadata": {
        "colab": {
          "base_uri": "https://localhost:8080/"
        },
        "id": "TQo6dLDIRrjL",
        "outputId": "c0352970-6a44-4659-8396-c8c7be3697b8"
      },
      "execution_count": null,
      "outputs": [
        {
          "output_type": "stream",
          "name": "stdout",
          "text": [
            "\n",
            "Reporte de clasificación:\n",
            "              precision    recall  f1-score   support\n",
            "\n",
            "           C       0.68      0.73      0.70        44\n",
            "          CL       0.00      0.00      0.00         4\n",
            "           D       0.65      0.67      0.66        36\n",
            "\n",
            "    accuracy                           0.67        84\n",
            "   macro avg       0.44      0.46      0.45        84\n",
            "weighted avg       0.63      0.67      0.65        84\n",
            "\n"
          ]
        },
        {
          "output_type": "stream",
          "name": "stderr",
          "text": [
            "/usr/local/lib/python3.10/dist-packages/sklearn/metrics/_classification.py:1344: UndefinedMetricWarning: Precision and F-score are ill-defined and being set to 0.0 in labels with no predicted samples. Use `zero_division` parameter to control this behavior.\n",
            "  _warn_prf(average, modifier, msg_start, len(result))\n",
            "/usr/local/lib/python3.10/dist-packages/sklearn/metrics/_classification.py:1344: UndefinedMetricWarning: Precision and F-score are ill-defined and being set to 0.0 in labels with no predicted samples. Use `zero_division` parameter to control this behavior.\n",
            "  _warn_prf(average, modifier, msg_start, len(result))\n",
            "/usr/local/lib/python3.10/dist-packages/sklearn/metrics/_classification.py:1344: UndefinedMetricWarning: Precision and F-score are ill-defined and being set to 0.0 in labels with no predicted samples. Use `zero_division` parameter to control this behavior.\n",
            "  _warn_prf(average, modifier, msg_start, len(result))\n"
          ]
        }
      ]
    },
    {
      "cell_type": "markdown",
      "source": [
        "\n",
        "   - Generamos un reporte de clasificación que incluye precision, recall, f1-score y support para cada clase utilizando `classification_report()`.\n",
        "\n",
        "\n",
        "  - El reporte de clasificación proporciona métricas de evaluación detalladas para cada clase en el conjunto de prueba. Aquí hay una explicación de las métricas que se presentan en el reporte:\n",
        "\n",
        "    - **Precision (Precisión)**: La precisión indica la proporción de instancias clasificadas como positivas que fueron correctamente clasificadas. Se calcula como el número de verdaderos positivos dividido por el número de verdaderos positivos más falsos positivos. En otras palabras, la precisión mide la calidad de las predicciones positivas del modelo.\n",
        "  \n",
        "    - **Recall (Recall o Sensibilidad)**: El recall indica la proporción de instancias positivas que fueron correctamente identificadas por el modelo. Se calcula como el número de verdaderos positivos dividido por el número de verdaderos positivos más falsos negativos. En otras palabras, el recall mide la capacidad del modelo para encontrar todas las instancias positivas.\n",
        "  \n",
        "    - **F1-score**: El F1-score es la media armónica de precision y recall. Proporciona un equilibrio entre precision y recall y es útil cuando las clases están desbalanceadas. Se calcula como 2 * (precision * recall) / (precision + recall).\n",
        "  \n",
        "    - **Support**: Support indica el número de ocurrencias reales de cada clase en el conjunto de prueba.\n",
        "\n",
        "    - **Accuracy (Precisión global)**: La precisión global indica la proporción de predicciones correctas realizadas por el modelo sobre el total de predicciones realizadas. Se calcula como el número de predicciones correctas dividido por el número total de predicciones.\n",
        "\n",
        "    - **Macro average (Promedio macro)**: El promedio macro calcula las métricas promedio para cada clase y luego toma el promedio no ponderado de estas métricas.\n",
        "\n",
        "    - **Weighted average (Promedio ponderado)**: El promedio ponderado calcula las métricas promedio para cada clase pero pondera estas métricas por el soporte de cada clase (el número de ocurrencias reales de cada clase en el conjunto de prueba).\n",
        "\n",
        "En este caso específico, el reporte muestra métricas para tres clases (C, CL y D) en el conjunto de prueba. También muestra advertencias (`UndefinedMetricWarning`) porque hay clases para las cuales no se realizaron predicciones (no hay muestras predichas). Esto podría ocurrir cuando el modelo no es capaz de predecir ciertas clases debido a la distribución de los datos o limitaciones del modelo."
      ],
      "metadata": {
        "id": "vSWxv6N0RrtW"
      }
    },
    {
      "cell_type": "code",
      "source": [
        "# Mostrar matriz de confusión\n",
        "print(\"\\nMatriz de confusión:\")\n",
        "print(confusion_matrix(y_test, y_pred))"
      ],
      "metadata": {
        "colab": {
          "base_uri": "https://localhost:8080/"
        },
        "id": "rNBM4w38R3pD",
        "outputId": "cc772edc-9338-406a-9af5-e2212504b7d2"
      },
      "execution_count": null,
      "outputs": [
        {
          "output_type": "stream",
          "name": "stdout",
          "text": [
            "\n",
            "Matriz de confusión:\n",
            "[[32  0 12]\n",
            " [ 3  0  1]\n",
            " [12  0 24]]\n"
          ]
        }
      ]
    },
    {
      "cell_type": "markdown",
      "source": [
        " - Calculamos y mostramos la matriz de confusión utilizando `confusion_matrix()`, que es una tabla que muestra los resultados de clasificación comparando las etiquetas verdaderas y las predicciones del modelo.\n",
        "\n",
        "La matriz de confusión es una tabla que muestra las predicciones del modelo comparadas con las etiquetas verdaderas en un problema de clasificación. Cada fila de la matriz representa las instancias en una clase predicha, mientras que cada columna representa las instancias en una clase real. En una matriz de confusión típica de clasificación binaria, las filas corresponden a las predicciones de la clase positiva y negativa, mientras que las columnas corresponden a las etiquetas verdaderas de la clase positiva y negativa, respectivamente.\n",
        "\n",
        "Sin embargo, en este caso estás tratando con un problema de clasificación multiclase, por lo que la matriz de confusión es un poco más compleja. La interpretación de la matriz de confusión se realiza de la siguiente manera:\n",
        "\n",
        "- La fila 1 corresponde a la clase 'C', la fila 2 corresponde a la clase 'CL' y la fila 3 corresponde a la clase 'D'.\n",
        "- La columna 1 corresponde a las instancias que realmente son de la clase 'C', la columna 2 corresponde a las instancias que realmente son de la clase 'CL' y la columna 3 corresponde a las instancias que realmente son de la clase 'D'.\n",
        "\n",
        "Con eso en mente, puedes interpretar cada celda de la matriz de confusión:\n",
        "\n",
        "- La celda (1,1) contiene el número de instancias que fueron correctamente clasificadas como 'C' (verdaderos positivos).\n",
        "- La celda (1,2) contiene el número de instancias que fueron clasificadas incorrectamente como 'CL' (falsos negativos).\n",
        "- La celda (1,3) contiene el número de instancias que fueron clasificadas incorrectamente como 'D' (falsos negativos).\n",
        "- La celda (2,1) contiene el número de instancias que fueron clasificadas incorrectamente como 'C' (falsos positivos).\n",
        "- La celda (2,2) contiene el número de instancias que fueron correctamente clasificadas como 'CL' (verdaderos positivos).\n",
        "- La celda (2,3) contiene el número de instancias que fueron clasificadas incorrectamente como 'D' (falsos negativos).\n",
        "- La celda (3,1) contiene el número de instancias que fueron clasificadas incorrectamente como 'C' (falsos positivos).\n",
        "- La celda (3,2) contiene el número de instancias que fueron clasificadas incorrectamente como 'CL' (falsos positivos).\n",
        "- La celda (3,3) contiene el número de instancias que fueron correctamente clasificadas como 'D' (verdaderos positivos).\n",
        "\n",
        "En resumen, la matriz de confusión proporciona una descripción detallada de las predicciones del modelo y es útil para evaluar el rendimiento del clasificador, especialmente en problemas de clasificación multiclase."
      ],
      "metadata": {
        "id": "JzX1iDb7R3yd"
      }
    },
    {
      "cell_type": "markdown",
      "source": [
        "**Interpretación:**\n",
        "\n",
        "- La precisión del modelo indica qué tan bien puede predecir el estado del paciente en función del tiempo transcurrido desde el registro.\n",
        "- El reporte de clasificación proporciona métricas detalladas por clase, lo que permite evaluar el rendimiento del modelo para cada estado del paciente.\n",
        "- La matriz de confusión muestra el número de instancias clasificadas correctamente e incorrectamente para cada clase, lo que proporciona una visión más detallada del rendimiento del modelo."
      ],
      "metadata": {
        "id": "z1Hc6-AcfEjq"
      }
    },
    {
      "cell_type": "code",
      "source": [
        "# Calcular estadísticas descriptivas de N_Days agrupadas por el estado del paciente\n",
        "stats_by_status = df.groupby('Status')['N_Days'].describe()\n",
        "\n",
        "# Imprimir las estadísticas descriptivas\n",
        "print(\"Estadísticas descriptivas de N_Days agrupadas por el estado del paciente:\")\n",
        "print(stats_by_status)"
      ],
      "metadata": {
        "id": "PNOHZVxYqPEj",
        "colab": {
          "base_uri": "https://localhost:8080/"
        },
        "outputId": "e6a1398d-f9ca-4716-d149-7f76b7bc89d7"
      },
      "execution_count": null,
      "outputs": [
        {
          "output_type": "stream",
          "name": "stdout",
          "text": [
            "Estadísticas descriptivas de N_Days agrupadas por el estado del paciente:\n",
            "        count         mean          std    min     25%     50%     75%     max\n",
            "Status                                                                        \n",
            "C       232.0  2333.155172   994.658954  691.0  1456.5  2186.5  2979.5  4795.0\n",
            "CL       25.0  1546.200000   753.074255  533.0   901.0  1435.0  2241.0  3092.0\n",
            "D       161.0  1376.931677  1049.227967   41.0   597.0  1083.0  2071.0  4191.0\n"
          ]
        }
      ]
    },
    {
      "cell_type": "markdown",
      "source": [
        "Estas estadísticas descriptivas proporcionan información sobre la variable 'N_Days' (número de días transcurridos desde el registro) para diferentes estados del paciente:\n",
        "\n",
        "- **count**: El número total de observaciones para cada estado del paciente.\n",
        "- **mean**: La media del tiempo transcurrido desde el registro para cada estado del paciente. Por ejemplo, para el estado 'C', la media es aproximadamente 2333.16 días.\n",
        "- **std**: La desviación estándar del tiempo transcurrido desde el registro para cada estado del paciente. Indica la dispersión de los datos alrededor de la media. Por ejemplo, para el estado 'C', la desviación estándar es aproximadamente 994.66 días.\n",
        "- **min**: El valor mínimo del tiempo transcurrido desde el registro para cada estado del paciente. Por ejemplo, para el estado 'D', el valor mínimo es 41 días.\n",
        "- **25%**: El percentil 25, también conocido como el primer cuartil. Indica el valor por debajo del cual cae el 25% de los datos. Por ejemplo, para el estado 'C', el primer cuartil es aproximadamente 1456.5 días.\n",
        "- **50%**: El percentil 50, también conocido como la mediana. Indica el valor que separa la mitad superior de la mitad inferior de los datos. Por ejemplo, para el estado 'CL', la mediana es 1435 días.\n",
        "- **75%**: El percentil 75, también conocido como el tercer cuartil. Indica el valor por debajo del cual cae el 75% de los datos. Por ejemplo, para el estado 'D', el tercer cuartil es aproximadamente 2071 días.\n",
        "- **max**: El valor máximo del tiempo transcurrido desde el registro para cada estado del paciente. Por ejemplo, para el estado 'C', el valor máximo es 4795 días."
      ],
      "metadata": {
        "id": "uJ-hh0EcqPUi"
      }
    },
    {
      "cell_type": "markdown",
      "source": [
        "\n",
        "2. **Impacto del tipo de medicamento administrado en el estado del paciente:**\n",
        "\n",
        "Para contestar esta pregunta utlizaremos un codigo similar al anterior con una pequeña modificacion, añadir: `X = pd.get_dummies(X, drop_first=True)` despues de dividir el conjunto.\n",
        "\n",
        "El código `X = pd.get_dummies(X, drop_first=True)` está realizando una transformación llamada \"one-hot encoding\" en las variables categóricas. En este caso, estás aplicando esta transformación a la variable `Drug`, que es una variable categórica con dos posibles valores: D-penicillamine o placebo.\n",
        "\n",
        "La función `pd.get_dummies()` de la biblioteca pandas toma una variable categórica y la convierte en una o más variables binarias (0 o 1), donde cada posible valor único de la variable original se convierte en una nueva columna en el DataFrame y se asigna un valor de 1 si la observación tiene ese valor y 0 en caso contrario.\n",
        "\n",
        "El parámetro `drop_first=True` controla si se deben eliminar la primera columna después de la codificación. Esto se hace para evitar la multicolinealidad en los datos, lo que significa que una columna se puede predecir perfectamente a partir de las demás, lo que puede llevar a problemas en algunos modelos de aprendizaje automático.\n",
        "\n"
      ],
      "metadata": {
        "id": "mJDQfRfjfwao"
      }
    },
    {
      "cell_type": "code",
      "source": [
        "# Dividir el conjunto de datos en características (X) y variable objetivo (y)\n",
        "X = df[['Drug']]\n",
        "y = df['Status']\n",
        "\n",
        "# Convertir variables categóricas en variables numéricas utilizando one-hot encoding\n",
        "X = pd.get_dummies(X, drop_first=True)\n",
        "\n",
        "# Dividir los datos en conjuntos de entrenamiento y prueba\n",
        "X_train, X_test, y_train, y_test = train_test_split(X, y, test_size=0.2, random_state=42)\n",
        "\n",
        "# Crear y entrenar un modelo de clasificación (por ejemplo, Regresión Logística)\n",
        "model = LogisticRegression()\n",
        "model.fit(X_train, y_train)\n",
        "\n",
        "# Predecir el estado del paciente en el conjunto de prueba\n",
        "y_pred = model.predict(X_test)\n",
        "\n",
        "# Evaluar la precisión del modelo\n",
        "accuracy = accuracy_score(y_test, y_pred)\n",
        "print(\"Precisión del modelo:\", accuracy)\n",
        "\n",
        "# Mostrar reporte de clasificación\n",
        "print(\"\\nReporte de clasificación:\")\n",
        "print(classification_report(y_test, y_pred))\n",
        "\n",
        "# Mostrar matriz de confusión\n",
        "print(\"\\nMatriz de confusión:\")\n",
        "print(confusion_matrix(y_test, y_pred))\n"
      ],
      "metadata": {
        "colab": {
          "base_uri": "https://localhost:8080/"
        },
        "id": "EG9OuUpOfvaM",
        "outputId": "9e2523e9-0077-4a1a-f034-ae57ea4ea3b5"
      },
      "execution_count": null,
      "outputs": [
        {
          "output_type": "stream",
          "name": "stdout",
          "text": [
            "Precisión del modelo: 0.5238095238095238\n",
            "\n",
            "Reporte de clasificación:\n",
            "              precision    recall  f1-score   support\n",
            "\n",
            "           C       0.52      1.00      0.69        44\n",
            "          CL       0.00      0.00      0.00         4\n",
            "           D       0.00      0.00      0.00        36\n",
            "\n",
            "    accuracy                           0.52        84\n",
            "   macro avg       0.17      0.33      0.23        84\n",
            "weighted avg       0.27      0.52      0.36        84\n",
            "\n",
            "\n",
            "Matriz de confusión:\n",
            "[[44  0  0]\n",
            " [ 4  0  0]\n",
            " [36  0  0]]\n"
          ]
        },
        {
          "output_type": "stream",
          "name": "stderr",
          "text": [
            "/usr/local/lib/python3.10/dist-packages/sklearn/metrics/_classification.py:1344: UndefinedMetricWarning: Precision and F-score are ill-defined and being set to 0.0 in labels with no predicted samples. Use `zero_division` parameter to control this behavior.\n",
            "  _warn_prf(average, modifier, msg_start, len(result))\n",
            "/usr/local/lib/python3.10/dist-packages/sklearn/metrics/_classification.py:1344: UndefinedMetricWarning: Precision and F-score are ill-defined and being set to 0.0 in labels with no predicted samples. Use `zero_division` parameter to control this behavior.\n",
            "  _warn_prf(average, modifier, msg_start, len(result))\n",
            "/usr/local/lib/python3.10/dist-packages/sklearn/metrics/_classification.py:1344: UndefinedMetricWarning: Precision and F-score are ill-defined and being set to 0.0 in labels with no predicted samples. Use `zero_division` parameter to control this behavior.\n",
            "  _warn_prf(average, modifier, msg_start, len(result))\n"
          ]
        }
      ]
    },
    {
      "cell_type": "markdown",
      "source": [
        "3. **Correlación entre la edad del paciente y su estado de salud:**\n"
      ],
      "metadata": {
        "id": "UhzKcXecnryR"
      }
    },
    {
      "cell_type": "code",
      "source": [
        "# Dividir el conjunto de datos en características (X) y variable objetivo (y)\n",
        "X = df['Age'].values.reshape(-1, 1)\n",
        "y = df['Status']\n",
        "\n",
        "# Dividir los datos en conjuntos de entrenamiento y prueba\n",
        "X_train, X_test, y_train, y_test = train_test_split(X, y, test_size=0.2, random_state=42)\n",
        "\n",
        "# Crear y entrenar un modelo de clasificación (por ejemplo, Regresión Logística)\n",
        "model = LogisticRegression()\n",
        "model.fit(X_train, y_train)\n",
        "\n",
        "# Predecir el estado del paciente en el conjunto de prueba\n",
        "y_pred = model.predict(X_test)\n",
        "\n",
        "# Evaluar la precisión del modelo\n",
        "accuracy = accuracy_score(y_test, y_pred)\n",
        "print(\"Precisión del modelo:\", accuracy)\n",
        "\n",
        "# Mostrar reporte de clasificación\n",
        "print(\"\\nReporte de clasificación:\")\n",
        "print(classification_report(y_test, y_pred))\n",
        "\n",
        "# Mostrar matriz de confusión\n",
        "print(\"\\nMatriz de confusión:\")\n",
        "print(confusion_matrix(y_test, y_pred))\n"
      ],
      "metadata": {
        "colab": {
          "base_uri": "https://localhost:8080/"
        },
        "id": "0hiLaGiLn6iB",
        "outputId": "61db175c-ee0a-4a38-ce2c-11ff41824c23"
      },
      "execution_count": null,
      "outputs": [
        {
          "output_type": "stream",
          "name": "stdout",
          "text": [
            "Precisión del modelo: 0.5357142857142857\n",
            "\n",
            "Reporte de clasificación:\n"
          ]
        },
        {
          "output_type": "stream",
          "name": "stderr",
          "text": [
            "/usr/local/lib/python3.10/dist-packages/sklearn/metrics/_classification.py:1344: UndefinedMetricWarning: Precision and F-score are ill-defined and being set to 0.0 in labels with no predicted samples. Use `zero_division` parameter to control this behavior.\n",
            "  _warn_prf(average, modifier, msg_start, len(result))\n"
          ]
        },
        {
          "output_type": "stream",
          "name": "stdout",
          "text": [
            "              precision    recall  f1-score   support\n",
            "\n",
            "           C       0.53      0.89      0.67        44\n",
            "          CL       0.00      0.00      0.00         4\n",
            "           D       0.55      0.17      0.26        36\n",
            "\n",
            "    accuracy                           0.54        84\n",
            "   macro avg       0.36      0.35      0.31        84\n",
            "weighted avg       0.51      0.54      0.46        84\n",
            "\n",
            "\n",
            "Matriz de confusión:\n",
            "[[39  0  5]\n",
            " [ 4  0  0]\n",
            " [30  0  6]]\n"
          ]
        },
        {
          "output_type": "stream",
          "name": "stderr",
          "text": [
            "/usr/local/lib/python3.10/dist-packages/sklearn/metrics/_classification.py:1344: UndefinedMetricWarning: Precision and F-score are ill-defined and being set to 0.0 in labels with no predicted samples. Use `zero_division` parameter to control this behavior.\n",
            "  _warn_prf(average, modifier, msg_start, len(result))\n",
            "/usr/local/lib/python3.10/dist-packages/sklearn/metrics/_classification.py:1344: UndefinedMetricWarning: Precision and F-score are ill-defined and being set to 0.0 in labels with no predicted samples. Use `zero_division` parameter to control this behavior.\n",
            "  _warn_prf(average, modifier, msg_start, len(result))\n"
          ]
        }
      ]
    },
    {
      "cell_type": "markdown",
      "source": [
        "4. **Diferencias en el estado de los pacientes según su género:**\n",
        "\n"
      ],
      "metadata": {
        "id": "48WCAQT7oElO"
      }
    },
    {
      "cell_type": "code",
      "source": [
        "# Dividir el conjunto de datos en características (X) y variable objetivo (y)\n",
        "X = df[['Sex']]\n",
        "y = df['Status']\n",
        "\n",
        "# Convertir variables categóricas en variables numéricas utilizando one-hot encoding\n",
        "X = pd.get_dummies(X, drop_first=True)\n",
        "\n",
        "# Dividir los datos en conjuntos de entrenamiento y prueba\n",
        "X_train, X_test, y_train, y_test = train_test_split(X, y, test_size=0.2, random_state=42)\n",
        "\n",
        "# Crear y entrenar un modelo de clasificación (por ejemplo, Regresión Logística)\n",
        "model = LogisticRegression()\n",
        "model.fit(X_train, y_train)\n",
        "\n",
        "# Predecir el estado del paciente en el conjunto de prueba\n",
        "y_pred = model.predict(X_test)\n",
        "\n",
        "# Evaluar la precisión del modelo\n",
        "accuracy = accuracy_score(y_test, y_pred)\n",
        "print(\"Precisión del modelo:\", accuracy)\n",
        "\n",
        "# Mostrar reporte de clasificación\n",
        "print(\"\\nReporte de clasificación:\")\n",
        "print(classification_report(y_test, y_pred))\n",
        "\n",
        "# Mostrar matriz de confusión\n",
        "print(\"\\nMatriz de confusión:\")\n",
        "print(confusion_matrix(y_test, y_pred))\n"
      ],
      "metadata": {
        "colab": {
          "base_uri": "https://localhost:8080/"
        },
        "id": "KK9myoWKoExl",
        "outputId": "c6ddb3f0-5b79-4e34-b76c-f67ebe44e645"
      },
      "execution_count": null,
      "outputs": [
        {
          "output_type": "stream",
          "name": "stdout",
          "text": [
            "Precisión del modelo: 0.5595238095238095\n",
            "\n",
            "Reporte de clasificación:\n",
            "              precision    recall  f1-score   support\n",
            "\n",
            "           C       0.55      0.95      0.69        44\n",
            "          CL       0.00      0.00      0.00         4\n",
            "           D       0.71      0.14      0.23        36\n",
            "\n",
            "    accuracy                           0.56        84\n",
            "   macro avg       0.42      0.36      0.31        84\n",
            "weighted avg       0.59      0.56      0.46        84\n",
            "\n",
            "\n",
            "Matriz de confusión:\n",
            "[[42  0  2]\n",
            " [ 4  0  0]\n",
            " [31  0  5]]\n"
          ]
        },
        {
          "output_type": "stream",
          "name": "stderr",
          "text": [
            "/usr/local/lib/python3.10/dist-packages/sklearn/metrics/_classification.py:1344: UndefinedMetricWarning: Precision and F-score are ill-defined and being set to 0.0 in labels with no predicted samples. Use `zero_division` parameter to control this behavior.\n",
            "  _warn_prf(average, modifier, msg_start, len(result))\n",
            "/usr/local/lib/python3.10/dist-packages/sklearn/metrics/_classification.py:1344: UndefinedMetricWarning: Precision and F-score are ill-defined and being set to 0.0 in labels with no predicted samples. Use `zero_division` parameter to control this behavior.\n",
            "  _warn_prf(average, modifier, msg_start, len(result))\n",
            "/usr/local/lib/python3.10/dist-packages/sklearn/metrics/_classification.py:1344: UndefinedMetricWarning: Precision and F-score are ill-defined and being set to 0.0 in labels with no predicted samples. Use `zero_division` parameter to control this behavior.\n",
            "  _warn_prf(average, modifier, msg_start, len(result))\n"
          ]
        }
      ]
    },
    {
      "cell_type": "markdown",
      "source": [
        "\n",
        "\n",
        "1. **Relación entre el tiempo transcurrido desde el registro y el estado del paciente:**"
      ],
      "metadata": {
        "id": "QDrzxVeSxd4h"
      }
    },
    {
      "cell_type": "code",
      "source": [
        "# Calcular estadísticas descriptivas de N_Days agrupadas por el estado del paciente\n",
        "stats_by_status = df.groupby('Status')['N_Days'].describe()\n",
        "\n",
        "# Imprimir las estadísticas descriptivas\n",
        "print(\"Estadísticas descriptivas de N_Days agrupadas por el estado del paciente:\")\n",
        "print(stats_by_status)"
      ],
      "metadata": {
        "colab": {
          "base_uri": "https://localhost:8080/"
        },
        "id": "nB8II9Zto9d9",
        "outputId": "eefedbab-dd5c-40c7-89e7-adc3136bd817"
      },
      "execution_count": null,
      "outputs": [
        {
          "output_type": "stream",
          "name": "stdout",
          "text": [
            "Estadísticas descriptivas de N_Days agrupadas por el estado del paciente:\n",
            "        count         mean          std    min     25%     50%     75%     max\n",
            "Status                                                                        \n",
            "C       232.0  2333.155172   994.658954  691.0  1456.5  2186.5  2979.5  4795.0\n",
            "CL       25.0  1546.200000   753.074255  533.0   901.0  1435.0  2241.0  3092.0\n",
            "D       161.0  1376.931677  1049.227967   41.0   597.0  1083.0  2071.0  4191.0\n"
          ]
        }
      ]
    },
    {
      "cell_type": "markdown",
      "source": [
        "Estas estadísticas descriptivas proporcionan información sobre la variable 'N_Days' (número de días transcurridos desde el registro) para diferentes estados del paciente:\n",
        "\n",
        "- **count**: El número total de observaciones para cada estado del paciente.\n",
        "- **mean**: La media del tiempo transcurrido desde el registro para cada estado del paciente. Por ejemplo, para el estado 'C', la media es aproximadamente 2333.16 días.\n",
        "- **std**: La desviación estándar del tiempo transcurrido desde el registro para cada estado del paciente. Indica la dispersión de los datos alrededor de la media. Por ejemplo, para el estado 'C', la desviación estándar es aproximadamente 994.66 días.\n",
        "- **min**: El valor mínimo del tiempo transcurrido desde el registro para cada estado del paciente. Por ejemplo, para el estado 'D', el valor mínimo es 41 días.\n",
        "- **25%**: El percentil 25, también conocido como el primer cuartil. Indica el valor por debajo del cual cae el 25% de los datos. Por ejemplo, para el estado 'C', el primer cuartil es aproximadamente 1456.5 días.\n",
        "- **50%**: El percentil 50, también conocido como la mediana. Indica el valor que separa la mitad superior de la mitad inferior de los datos. Por ejemplo, para el estado 'CL', la mediana es 1435 días.\n",
        "- **75%**: El percentil 75, también conocido como el tercer cuartil. Indica el valor por debajo del cual cae el 75% de los datos. Por ejemplo, para el estado 'D', el tercer cuartil es aproximadamente 2071 días.\n",
        "- **max**: El valor máximo del tiempo transcurrido desde el registro para cada estado del paciente. Por ejemplo, para el estado 'C', el valor máximo es 4795 días.\n",
        "\n",
        "En resumen, estas estadísticas nos ayudan a comprender la distribución y la tendencia central de la variable 'N_Days' para diferentes estados del paciente."
      ],
      "metadata": {
        "id": "CyBVO_fSqmnU"
      }
    },
    {
      "cell_type": "markdown",
      "source": [
        "2. **Impacto del tipo de medicamento administrado en el estado del paciente:**"
      ],
      "metadata": {
        "id": "teH8aKA0xoRE"
      }
    },
    {
      "cell_type": "code",
      "source": [
        "# Calcular la distribución de estados del paciente para cada tipo de medicamento administrado\n",
        "status_by_drug = df.groupby('Drug')['Status'].value_counts(normalize=True)\n",
        "\n",
        "# Imprimir la distribución de estados del paciente para cada tipo de medicamento administrado\n",
        "print(\"Distribución de estados del paciente por tipo de medicamento administrado:\")\n",
        "print(status_by_drug)"
      ],
      "metadata": {
        "colab": {
          "base_uri": "https://localhost:8080/"
        },
        "id": "__xAiEzLqmyM",
        "outputId": "b0afbf8d-a6e1-424a-ac79-2e5eef463eeb"
      },
      "execution_count": null,
      "outputs": [
        {
          "output_type": "stream",
          "name": "stdout",
          "text": [
            "Distribución de estados del paciente por tipo de medicamento administrado:\n",
            "Drug             Status\n",
            "D-penicillamine  C         0.556818\n",
            "                 D         0.382576\n",
            "                 CL        0.060606\n",
            "Placebo          C         0.551948\n",
            "                 D         0.389610\n",
            "                 CL        0.058442\n",
            "Name: proportion, dtype: float64\n"
          ]
        }
      ]
    },
    {
      "cell_type": "markdown",
      "source": [
        "Estos resultados muestran la distribución de los estados del paciente (C, D y CL) para cada tipo de medicamento administrado (D-penicillamine y placebo). Aquí está su interpretación:\n",
        "\n",
        "- **D-penicillamine**:\n",
        "  - El 55.68% de los pacientes que recibieron D-penicillamine tienen un estado censurado (C).\n",
        "  - El 38.26% de los pacientes que recibieron D-penicillamine fallecieron (D).\n",
        "  - El 6.06% de los pacientes que recibieron D-penicillamine tienen un estado censurado debido al trasplante hepático (CL).\n",
        "\n",
        "- **Placebo**:\n",
        "  - El 55.19% de los pacientes que recibieron placebo tienen un estado censurado (C).\n",
        "  - El 38.96% de los pacientes que recibieron placebo fallecieron (D).\n",
        "  - El 5.84% de los pacientes que recibieron placebo tienen un estado censurado debido al trasplante hepático (CL).\n",
        "\n",
        "Basándonos en los resultados, parece que el tipo de medicamento administrado no influyó significativamente en el estado final del paciente. La distribución de los estados del paciente (C, D y CL) es similar entre los pacientes que recibieron D-penicillamine y los que recibieron placebo.\n",
        "\n",
        "Ambos grupos tienen una proporción cercana de pacientes con estado censurado (C), fallecidos (D) y censurados debido al trasplante hepático (CL). Por lo tanto, en base a los datos proporcionados, no parece haber una diferencia clara en los resultados en función del tipo de medicamento administrado."
      ],
      "metadata": {
        "id": "OY6tn8C9qnB2"
      }
    },
    {
      "cell_type": "markdown",
      "source": [
        "\n",
        "3. **Correlación entre la edad del paciente y su estado de salud:**"
      ],
      "metadata": {
        "id": "EfxPHXKBxuAF"
      }
    },
    {
      "cell_type": "code",
      "source": [
        "from scipy.stats import f_oneway\n",
        "\n",
        "# Filtrar el DataFrame por cada estado de salud\n",
        "status_C = df[df['Status'] == 'C']['Age']\n",
        "status_CL = df[df['Status'] == 'CL']['Age']\n",
        "status_D = df[df['Status'] == 'D']['Age']\n",
        "\n",
        "# Realizar la prueba ANOVA\n",
        "f_statistic, p_value = f_oneway(status_C, status_CL, status_D)\n",
        "\n",
        "# Imprimir los resultados\n",
        "print(\"Estadística F:\", f_statistic)\n",
        "print(\"Valor p:\", p_value)\n",
        "\n",
        "if p_value < 0.05:\n",
        "    print(\"Hay una diferencia significativa en la edad promedio entre los diferentes estados de salud.\")\n",
        "else:\n",
        "    print(\"No hay una diferencia significativa en la edad promedio entre los diferentes estados de salud.\")\n"
      ],
      "metadata": {
        "colab": {
          "base_uri": "https://localhost:8080/"
        },
        "id": "mVKLQc2hrl9k",
        "outputId": "78a3833a-4279-4a02-9809-bd3a9cbfc494"
      },
      "execution_count": null,
      "outputs": [
        {
          "output_type": "stream",
          "name": "stdout",
          "text": [
            "Estadística F: 20.134266051199326\n",
            "Valor p: 4.512801037966663e-09\n",
            "Hay una diferencia significativa en la edad promedio entre los diferentes estados de salud.\n"
          ]
        }
      ]
    },
    {
      "cell_type": "markdown",
      "source": [
        "El valor de la estadística F obtenido es aproximadamente 20.13 y el valor p es extremadamente pequeño, alrededor de 4.51e-09 (o 0.0000000045128).\n",
        "\n",
        "Esto significa que existe una diferencia significativa en la edad promedio entre los diferentes estados de salud. En otras palabras, la edad del paciente está relacionada de manera significativa con su estado de salud.\n",
        "\n",
        "Con base en estos resultados, podemos concluir que la edad del paciente juega un papel importante en su estado de salud. Específicamente, la prueba ANOVA indica que hay diferencias significativas en la edad promedio entre los pacientes con diferentes estados de salud (D, C y CL). Esto podría ser útil para entender cómo la edad influye en la progresión y el resultado de la enfermedad hepática en los pacientes con cirrosis."
      ],
      "metadata": {
        "id": "z3NPFdYDrnF1"
      }
    },
    {
      "cell_type": "markdown",
      "source": [
        "4. **Diferencias en el estado de los pacientes según su género:**"
      ],
      "metadata": {
        "id": "-whBEvBPxyb4"
      }
    },
    {
      "cell_type": "code",
      "source": [
        "from scipy.stats import chi2_contingency\n",
        "\n",
        "# Crear una tabla de contingencia entre el género y el estado de salud\n",
        "contingency_table = pd.crosstab(df['Sex'], df['Status'])\n",
        "\n",
        "# Realizar la prueba de chi-cuadrado\n",
        "chi2, p_value, dof, expected = chi2_contingency(contingency_table)\n",
        "\n",
        "# Imprimir el valor de chi-cuadrado y el valor p\n",
        "print(\"Valor de chi-cuadrado:\", chi2)\n",
        "print(\"Valor p:\", p_value)\n",
        "\n",
        "# Interpretar los resultados\n",
        "if p_value < 0.05:\n",
        "    print(\"Hay una asociación significativa entre el género y el estado de salud.\")\n",
        "    if contingency_table.loc['M', 'D'] > contingency_table.loc['F', 'D']:\n",
        "        print(\"Los hombres son más propensos a tener un estado de salud 'D'.\")\n",
        "    elif contingency_table.loc['M', 'D'] < contingency_table.loc['F', 'D']:\n",
        "        print(\"Las mujeres son más propensas a tener un estado de salud 'D'.\")\n",
        "    else:\n",
        "        print(\"No hay diferencias significativas entre géneros en cuanto al estado de salud 'D'.\")\n",
        "else:\n",
        "    print(\"No hay una asociación significativa entre el género y el estado de salud.\")"
      ],
      "metadata": {
        "colab": {
          "base_uri": "https://localhost:8080/"
        },
        "id": "GVfdkaJRs26l",
        "outputId": "7e7125f8-3130-4076-9d18-38a56f3cd0ea"
      },
      "execution_count": null,
      "outputs": [
        {
          "output_type": "stream",
          "name": "stdout",
          "text": [
            "Valor de chi-cuadrado: 5.858291641994132\n",
            "Valor p: 0.053442668259367894\n",
            "No hay una asociación significativa entre el género y el estado de salud.\n"
          ]
        }
      ]
    },
    {
      "cell_type": "markdown",
      "source": [
        "El valor de chi-cuadrado y el valor p son resultados de la prueba de chi-cuadrado realizada para determinar si hay una asociación significativa entre el género y el estado de salud de los pacientes.\n",
        "\n",
        "- El valor de chi-cuadrado (5.858) es una medida de cuánto difieren los valores observados de los esperados bajo la hipótesis nula de independencia entre el género y el estado de salud. Cuanto mayor sea el valor de chi-cuadrado, mayor será la discrepancia entre los datos observados y esperados, lo que indica una mayor asociación entre las variables.\n",
        "\n",
        "- El valor p (0.053) es la probabilidad de obtener un valor de chi-cuadrado igual o mayor al observado si la hipótesis nula fuera verdadera. En otras palabras, es la probabilidad de que la asociación observada entre el género y el estado de salud sea debido al azar. Si el valor p es menor que un umbral predefinido (comúnmente 0.05), se considera que hay una asociación significativa entre las variables.\n",
        "\n",
        "En este caso, el valor p es aproximadamente 0.053, lo que indica que hay una probabilidad del 5.3% de obtener una asociación entre el género y el estado de salud igual o más extrema que la observada si la asociación fuera puramente al azar. Como este valor p es mayor que el umbral comúnmente aceptado de 0.05, no hay suficiente evidencia para rechazar la hipótesis nula de que no hay asociación significativa entre el género y el estado de salud. Por lo tanto, se concluye que no hay una asociación significativa entre el género y el estado de salud en este conjunto de datos."
      ],
      "metadata": {
        "id": "lBDHdhlds3LR"
      }
    },
    {
      "cell_type": "markdown",
      "source": [
        "5. **Impacto de ciertas condiciones médicas en la supervivencia de los pacientes:**"
      ],
      "metadata": {
        "id": "tkX_UbwCx3cX"
      }
    },
    {
      "cell_type": "code",
      "source": [
        "from scipy.stats import chi2_contingency\n",
        "\n",
        "# Crear una tabla de contingencia entre las condiciones médicas y el estado de los pacientes\n",
        "contingency_table = pd.crosstab(index=df['Status'], columns=[df['Ascites'], df['Hepatomegaly'], df['Spiders'], df['Edema']])\n",
        "\n",
        "# Ejecutar la prueba de chi-cuadrado\n",
        "chi2, p, dof, expected = chi2_contingency(contingency_table)\n",
        "\n",
        "# Imprimir los resultados\n",
        "print(\"Valor de chi-cuadrado:\", chi2)\n",
        "print(\"Valor p:\", p)\n",
        "\n",
        "if p < 0.05:\n",
        "    print(\"Hay una asociación significativa entre las condiciones médicas y el estado de los pacientes.\")\n",
        "else:\n",
        "    print(\"No hay una asociación significativa entre las condiciones médicas y el estado de los pacientes.\")"
      ],
      "metadata": {
        "colab": {
          "base_uri": "https://localhost:8080/"
        },
        "id": "lzQEjzOHt4iS",
        "outputId": "a97ecf99-d72b-4853-eaf6-1ca07259910a"
      },
      "execution_count": null,
      "outputs": [
        {
          "output_type": "stream",
          "name": "stdout",
          "text": [
            "Valor de chi-cuadrado: 81.59296565949666\n",
            "Valor p: 2.160496432248983e-05\n",
            "Hay una asociación significativa entre las condiciones médicas y el estado de los pacientes.\n"
          ]
        }
      ]
    },
    {
      "cell_type": "markdown",
      "source": [
        "Los resultados muestran que el valor de chi-cuadrado es 81.59 y el valor p es 2.16e-05. Aquí está la interpretación:\n",
        "\n",
        "- **Valor de chi-cuadrado**: El valor de chi-cuadrado es una medida de la discrepancia entre los datos observados en la tabla de contingencia y los datos que se esperarían si no hubiera asociación entre las variables. En este caso, un valor alto de chi-cuadrado sugiere que existe una gran discrepancia entre los datos observados y los datos esperados bajo la hipótesis nula de independencia.\n",
        "\n",
        "- **Valor p**: El valor p es la probabilidad de observar un valor de chi-cuadrado al menos tan extremo como el valor observado, si la hipótesis nula de independencia es verdadera. En este caso, el valor p es extremadamente pequeño (2.16e-05), lo que indica que es altamente improbable obtener un valor de chi-cuadrado tan grande bajo la hipótesis nula.\n",
        "\n",
        "Por lo tanto, con un valor p tan pequeño, se rechaza la hipótesis nula de independencia entre las condiciones médicas y el estado de los pacientes. Esto significa que hay una asociación significativa entre las condiciones médicas (Ascites, Hepatomegaly, Spiders y Edema) y el estado de los pacientes (C, CL, D). En otras palabras, la presencia de estas condiciones médicas afecta significativamente el estado de salud de los pacientes."
      ],
      "metadata": {
        "id": "uN9--iNvt427"
      }
    },
    {
      "cell_type": "markdown",
      "source": [
        "6. **Relación entre los niveles de biomarcadores y el estado de los pacientes:**"
      ],
      "metadata": {
        "id": "JLtJH70-yJhQ"
      }
    },
    {
      "cell_type": "code",
      "source": [
        "# Lista de todos los biomarcadores\n",
        "biomarkers = ['Bilirubin', 'Cholesterol', 'Albumin', 'Copper', 'Alk_Phos', 'SGOT', 'Tryglicerides', 'Platelets', 'Prothrombin']\n",
        "\n",
        "# Realizar ANOVA para cada biomarcador y comparar las distribuciones entre los diferentes estados de los pacientes\n",
        "for biomarker in biomarkers:\n",
        "    anova_result = f_oneway(df[df['Status'] == 'C'][biomarker],\n",
        "                            df[df['Status'] == 'CL'][biomarker],\n",
        "                            df[df['Status'] == 'D'][biomarker])\n",
        "    print(\"Resultado del ANOVA para\", biomarker, \":\", anova_result)"
      ],
      "metadata": {
        "colab": {
          "base_uri": "https://localhost:8080/"
        },
        "id": "ctHTkr7xuuhf",
        "outputId": "64174e91-b735-4316-fedc-bbbed2504d90"
      },
      "execution_count": null,
      "outputs": [
        {
          "output_type": "stream",
          "name": "stdout",
          "text": [
            "Resultado del ANOVA para Bilirubin : F_onewayResult(statistic=46.995280799342794, pvalue=4.0060030337023026e-19)\n",
            "Resultado del ANOVA para Cholesterol : F_onewayResult(statistic=5.886448975602688, pvalue=0.00301395971740692)\n",
            "Resultado del ANOVA para Albumin : F_onewayResult(statistic=15.260927571507652, pvalue=4.024017053712767e-07)\n",
            "Resultado del ANOVA para Copper : F_onewayResult(statistic=27.145803312454966, pvalue=8.329171395554437e-12)\n",
            "Resultado del ANOVA para Alk_Phos : F_onewayResult(statistic=8.981623453096693, pvalue=0.00015184166778389274)\n",
            "Resultado del ANOVA para SGOT : F_onewayResult(statistic=14.575889622594048, pvalue=7.624533554503278e-07)\n",
            "Resultado del ANOVA para Tryglicerides : F_onewayResult(statistic=6.691201978285902, pvalue=0.001380124171808719)\n",
            "Resultado del ANOVA para Platelets : F_onewayResult(statistic=5.671067970019371, pvalue=0.0037165656882138165)\n",
            "Resultado del ANOVA para Prothrombin : F_onewayResult(statistic=29.94521373040676, pvalue=7.109619597911414e-13)\n"
          ]
        }
      ]
    },
    {
      "cell_type": "markdown",
      "source": [
        "Los resultados del ANOVA muestran la significancia estadística de la diferencia en los niveles de biomarcadores entre los diferentes estados de los pacientes. Aquí hay una interpretación de los resultados en términos de la pregunta inicial:\n",
        "\n",
        "1. **Bilirrubina**: Hay una diferencia significativa en los niveles de bilirrubina entre los pacientes en los diferentes estados de salud (C, CL y D), con un valor p muy pequeño (<0.05). Esto sugiere que los niveles de bilirrubina están asociados de manera significativa con el estado de salud del paciente.\n",
        "\n",
        "2. **Colesterol**: También hay una diferencia significativa en los niveles de colesterol entre los pacientes en los diferentes estados de salud, con un valor p de 0.003. Aunque este valor p es mayor que 0.05, aún indica una asociación significativa.\n",
        "\n",
        "3. **Otros biomarcadores**: Todos los otros biomarcadores (Albumin, Copper, Alk_Phos, SGOT, Tryglicerides, Platelets y Prothrombin) también muestran diferencias significativas en sus niveles entre los diferentes estados de los pacientes, con valores p muy pequeños (<0.05).\n",
        "\n",
        "En resumen, estos resultados indican que los niveles de varios biomarcadores están asociados de manera significativa con el estado de salud del paciente. Esto sugiere que estos biomarcadores podrían ser útiles para predecir o entender el estado de salud de los pacientes en función de sus niveles."
      ],
      "metadata": {
        "id": "OZNlJWwJuuz1"
      }
    },
    {
      "cell_type": "markdown",
      "source": [
        "7. **Impacto del estadio histológico de la enfermedad en la supervivencia de los pacientes:**"
      ],
      "metadata": {
        "id": "xmnlEkp-yO8d"
      }
    },
    {
      "cell_type": "code",
      "source": [
        "from scipy.stats import chi2_contingency\n",
        "\n",
        "# Crear una tabla de contingencia entre el estadio histológico de la enfermedad y el estado de los pacientes\n",
        "contingency_table = pd.crosstab(index=df['Status'], columns=df['Stage'])\n",
        "\n",
        "# Ejecutar la prueba de chi-cuadrado\n",
        "chi2, p, dof, expected = chi2_contingency(contingency_table)\n",
        "\n",
        "# Imprimir los resultados\n",
        "print(\"Valor de chi-cuadrado:\", chi2)\n",
        "print(\"Valor p:\", p)\n",
        "\n",
        "if p < 0.05:\n",
        "    print(\"Hay una asociación significativa entre el estadio histológico de la enfermedad y el estado de los pacientes.\")\n",
        "else:\n",
        "    print(\"No hay una asociación significativa entre el estadio histológico de la enfermedad y el estado de los pacientes.\")\n"
      ],
      "metadata": {
        "colab": {
          "base_uri": "https://localhost:8080/"
        },
        "id": "MP16gkA3v-_T",
        "outputId": "0415c22d-51e3-4f36-fc13-6edf2fea1430"
      },
      "execution_count": null,
      "outputs": [
        {
          "output_type": "stream",
          "name": "stdout",
          "text": [
            "Valor de chi-cuadrado: 50.13785630363444\n",
            "Valor p: 3.8448806725631566e-08\n",
            "Hay una asociación significativa entre el estadio histológico de la enfermedad y el estado de los pacientes.\n"
          ]
        }
      ]
    },
    {
      "cell_type": "markdown",
      "source": [
        "El valor de chi-cuadrado obtenido es 50.14 y el valor p es 3.84e-08.\n",
        "\n",
        "El valor de chi-cuadrado es una medida estadística que indica la discrepancia entre las frecuencias observadas en los datos y las frecuencias esperadas bajo la hipótesis nula. Cuanto mayor sea el valor de chi-cuadrado, mayor será la discrepancia entre los datos observados y los esperados, lo que sugiere una asociación más fuerte entre las variables.\n",
        "\n",
        "El valor p es la probabilidad de observar un valor de chi-cuadrado al menos tan extremo como el valor observado bajo la hipótesis nula. Un valor p pequeño sugiere que es poco probable que la asociación observada entre las variables sea debida al azar.\n",
        "\n",
        "En este caso, el valor de chi-cuadrado es grande y el valor p es muy pequeño (menor que 0.05), lo que indica que la asociación entre el estadio histológico de la enfermedad y el estado de los pacientes es significativa. Por lo tanto, podemos concluir que hay una asociación significativa entre el estadio histológico de la enfermedad y el estado de los pacientes."
      ],
      "metadata": {
        "id": "gJ0YEwqUv_M3"
      }
    }
  ]
}